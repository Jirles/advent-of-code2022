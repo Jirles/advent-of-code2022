{
 "cells": [
  {
   "cell_type": "markdown",
   "id": "devoted-harbor",
   "metadata": {},
   "source": [
    "# Rucksack Reorganization\n",
    "\n",
    "Now there are rucksacks... and the elf in charge of organizing them did a bad job. Each rucksack has two `compartment`'s with an equal number of items in both compartments (though two rucksacks won't necessarily carry the same total number of items). Items are represented by lower and upper case letters. We need to figure out which item - there is only one - is in both compartments of each ruck sack and sum their `priorities`. Lower case letters are assigned priority 1-26 and upper case letters are 27-52.\n",
    "\n",
    "## Input file formatting\n",
    "Each rucksack is represented by a string of upper and lower case letters: `vJrwpWtwJgWrhcsFMMfFFhFp`. The first half of the string (`vJrwpWtwJgWr`) represents the items in the first compartment and the second half the second (`hcsFMMfFFhFp`). Entries for each rucksack are separated by a newline:\n",
    "```\n",
    "vJrwpWtwJgWrhcsFMMfFFhFp\n",
    "jqHRNqRjqzjGDLGLrsFMfFZSrLrFZsSL\n",
    "PmmdzqPrVvPwwTWBwg\n",
    "wMqvLMZHhHMvwLHjbvcjnnSBnvTQFn\n",
    "ttgJtRGJQctTZtZT\n",
    "CrZsJsPPZsGzwwsLwLmpwMDw\n",
    "```"
   ]
  },
  {
   "cell_type": "code",
   "execution_count": 1,
   "id": "upper-circle",
   "metadata": {},
   "outputs": [
    {
     "data": {
      "text/plain": [
       "97"
      ]
     },
     "execution_count": 1,
     "metadata": {},
     "output_type": "execute_result"
    }
   ],
   "source": [
    "# i don't really want to make a mapping dict that is 52 entries long so we're going to see if we can use\n",
    "# ascii values...\n",
    "ord('a')"
   ]
  },
  {
   "cell_type": "code",
   "execution_count": 2,
   "id": "sticky-chorus",
   "metadata": {},
   "outputs": [
    {
     "data": {
      "text/plain": [
       "26"
      ]
     },
     "execution_count": 2,
     "metadata": {},
     "output_type": "execute_result"
    }
   ],
   "source": [
    "ord('z') - 96"
   ]
  },
  {
   "cell_type": "code",
   "execution_count": 3,
   "id": "indirect-bunch",
   "metadata": {},
   "outputs": [
    {
     "data": {
      "text/plain": [
       "65"
      ]
     },
     "execution_count": 3,
     "metadata": {},
     "output_type": "execute_result"
    }
   ],
   "source": [
    "ord('A')"
   ]
  },
  {
   "cell_type": "code",
   "execution_count": 4,
   "id": "proud-speaking",
   "metadata": {},
   "outputs": [
    {
     "data": {
      "text/plain": [
       "90"
      ]
     },
     "execution_count": 4,
     "metadata": {},
     "output_type": "execute_result"
    }
   ],
   "source": [
    "ord('Z')"
   ]
  },
  {
   "cell_type": "code",
   "execution_count": 5,
   "id": "technological-observer",
   "metadata": {},
   "outputs": [
    {
     "data": {
      "text/plain": [
       "27"
      ]
     },
     "execution_count": 5,
     "metadata": {},
     "output_type": "execute_result"
    }
   ],
   "source": [
    "ord('A') - 38"
   ]
  },
  {
   "cell_type": "code",
   "execution_count": 4,
   "id": "eastern-virginia",
   "metadata": {},
   "outputs": [],
   "source": [
    "# ok so our subtraction values are 38 for upper case letters and 96 for lowercase letters\n",
    "# any letter with a value greater than 90 is a lowercase letter\n",
    "def determine_priority(character):\n",
    "    ascii_val = ord(character)\n",
    "    difference = 38\n",
    "    \n",
    "    if ascii_val > 90:\n",
    "        difference = 96\n",
    "    \n",
    "    return ascii_val - difference"
   ]
  },
  {
   "cell_type": "code",
   "execution_count": 12,
   "id": "weird-shame",
   "metadata": {},
   "outputs": [
    {
     "name": "stdout",
     "output_type": "stream",
     "text": [
      "31\n",
      "3\n"
     ]
    }
   ],
   "source": [
    "# testing, expectations: \n",
    "# 'E' => 31\n",
    "print(determine_priority('E'))\n",
    "# 'c' => 3\n",
    "print(determine_priority('c'))"
   ]
  },
  {
   "cell_type": "code",
   "execution_count": 17,
   "id": "described-belarus",
   "metadata": {},
   "outputs": [
    {
     "name": "stdout",
     "output_type": "stream",
     "text": [
      "12\n",
      "vJrwpWtwJgWr\n",
      "hcsFMMfFFhFp\n"
     ]
    }
   ],
   "source": [
    "# i always forget how string slicing works in python...\n",
    "test = 'vJrwpWtwJgWrhcsFMMfFFhFp'\n",
    "# need to cast as int or else it'll be a float\n",
    "mid = int(len('vJrwpWtwJgWrhcsFMMfFFhFp') / 2)\n",
    "print(mid)\n",
    "# expected: vJrwpWtwJgWr\n",
    "first_half = test[:mid]\n",
    "print(first_half)\n",
    "\n",
    "# expected: hcsFMMfFFhFp\n",
    "second_half = test[mid:]\n",
    "print(second_half)"
   ]
  },
  {
   "cell_type": "code",
   "execution_count": 12,
   "id": "collected-protest",
   "metadata": {},
   "outputs": [],
   "source": [
    "def find_duplicate(line):\n",
    "    midway = int(len(line)/2)\n",
    "    first_half = line[:midway]\n",
    "    second_half = line[midway:]\n",
    "    duplicate = ''\n",
    "    \n",
    "    for letter in first_half:\n",
    "        duplicate_idx = second_half.find(letter)\n",
    "        if duplicate_idx >= 0:\n",
    "            duplicate = second_half[duplicate_idx]\n",
    "            break\n",
    "    \n",
    "    return duplicate"
   ]
  },
  {
   "cell_type": "code",
   "execution_count": 2,
   "id": "mechanical-distribution",
   "metadata": {},
   "outputs": [
    {
     "name": "stdout",
     "output_type": "stream",
     "text": [
      "p\n",
      "L\n"
     ]
    }
   ],
   "source": [
    "# testing\n",
    "# vJrwpWtwJgWrhcsFMMfFFhFp => p\n",
    "print(find_duplicate('vJrwpWtwJgWrhcsFMMfFFhFp'))\n",
    "# jqHRNqRjqzjGDLGLrsFMfFZSrLrFZsSL => L\n",
    "print(find_duplicate('jqHRNqRjqzjGDLGLrsFMfFZSrLrFZsSL'))"
   ]
  },
  {
   "cell_type": "code",
   "execution_count": 3,
   "id": "biblical-compatibility",
   "metadata": {},
   "outputs": [],
   "source": [
    "file = open('input.txt')\n",
    "data = file.read().split('\\n')"
   ]
  },
  {
   "cell_type": "code",
   "execution_count": 14,
   "id": "floppy-child",
   "metadata": {},
   "outputs": [],
   "source": [
    "def sum_priorities(rucksacks):\n",
    "    # first time i ran through this there was an exception because find_duplicate\n",
    "    # returned a blank string. could be a bug in the code or the data may not be cleaned perfectly.\n",
    "    # keeping track for debugging purposes\n",
    "    result = {\"total\": 0, \"sus\": \"\" }\n",
    "    for rucksack in rucksacks:\n",
    "        duplicate = find_duplicate(rucksack)\n",
    "        if len(duplicate) == 0:\n",
    "            result[\"sus\"] = rucksack\n",
    "        else:\n",
    "             result[\"total\"] += determine_priority(duplicate)\n",
    "    \n",
    "    return result"
   ]
  },
  {
   "cell_type": "code",
   "execution_count": 6,
   "id": "median-rates",
   "metadata": {},
   "outputs": [
    {
     "data": {
      "text/plain": [
       "157"
      ]
     },
     "execution_count": 6,
     "metadata": {},
     "output_type": "execute_result"
    }
   ],
   "source": [
    "# expected outcome: 157\n",
    "first_six = [\n",
    "    'vJrwpWtwJgWrhcsFMMfFFhFp',\n",
    "    'jqHRNqRjqzjGDLGLrsFMfFZSrLrFZsSL',\n",
    "    'PmmdzqPrVvPwwTWBwg',\n",
    "    'wMqvLMZHhHMvwLHjbvcjnnSBnvTQFn',\n",
    "    'ttgJtRGJQctTZtZT',\n",
    "    'CrZsJsPPZsGzwwsLwLmpwMDw'\n",
    "]\n",
    "sum_priorities(first_six)"
   ]
  },
  {
   "cell_type": "code",
   "execution_count": 11,
   "id": "nominated-symphony",
   "metadata": {},
   "outputs": [
    {
     "data": {
      "text/plain": [
       "{'total': 6887, 'no_dups': 29}"
      ]
     },
     "execution_count": 11,
     "metadata": {},
     "output_type": "execute_result"
    }
   ],
   "source": [
    "sum_priorities(data)"
   ]
  },
  {
   "cell_type": "code",
   "execution_count": 13,
   "id": "tight-advance",
   "metadata": {},
   "outputs": [
    {
     "data": {
      "text/plain": [
       "{'total': 7716, 'no_dups': 1}"
      ]
     },
     "execution_count": 13,
     "metadata": {},
     "output_type": "execute_result"
    }
   ],
   "source": [
    "# i think i forgot that the duplicate letter could be at index zero so i switched the \n",
    "# operator in find_duplicate to >= 0\n",
    "sum_priorities(data)"
   ]
  },
  {
   "cell_type": "code",
   "execution_count": 15,
   "id": "first-collector",
   "metadata": {},
   "outputs": [
    {
     "data": {
      "text/plain": [
       "{'total': 7716, 'sus': ''}"
      ]
     },
     "execution_count": 15,
     "metadata": {},
     "output_type": "execute_result"
    }
   ],
   "source": [
    "# editiing sum_priorities to return the sus line instead of # of dups so i can see what it's getting fed\n",
    "sum_priorities(data)"
   ]
  },
  {
   "cell_type": "markdown",
   "id": "challenging-midnight",
   "metadata": {},
   "source": [
    "## Correct! Onto part 2...\n",
    "\n",
    "Someone messed up the badges the elves are carrying in their rucksacks. These badges are represented by letters in our strings of data and are the only letters that are present in each group of three lines. We need to find which letter is present in all three rucksacks. Using the `first_six` dictionary above, `r` is the badge for the first group and `Z` is the badge corresponding to the second group.\n",
    "\n",
    "So essentially, we're going to have have to slice our data into groups of three, go through the lines to find the value that is present in all three, then sum the priorities of that. ugh. "
   ]
  },
  {
   "cell_type": "code",
   "execution_count": 16,
   "id": "narrative-powell",
   "metadata": {},
   "outputs": [],
   "source": [
    "# determine_priority is the only method i can reuse so we need to create new methods for \n",
    "# sum_badge_priorities and find_badge\n",
    "def find_badge(group):\n",
    "    first = group[0]\n",
    "    second = group[1]\n",
    "    third = group[2]\n",
    "    badge = ''\n",
    "    \n",
    "    for letter in first:\n",
    "        dup_idx = second.find(letter)\n",
    "        if dup_idx >= 0:\n",
    "            trip_idx = third.find(letter)\n",
    "            if trip_idx >= 0:\n",
    "                badge = letter\n",
    "                break\n",
    "    \n",
    "    return badge"
   ]
  },
  {
   "cell_type": "code",
   "execution_count": 21,
   "id": "extensive-kentucky",
   "metadata": {
    "scrolled": true
   },
   "outputs": [
    {
     "name": "stdout",
     "output_type": "stream",
     "text": [
      "['vJrwpWtwJgWrhcsFMMfFFhFp', 'jqHRNqRjqzjGDLGLrsFMfFZSrLrFZsSL', 'PmmdzqPrVvPwwTWBwg']\n",
      "['wMqvLMZHhHMvwLHjbvcjnnSBnvTQFn', 'ttgJtRGJQctTZtZT', 'CrZsJsPPZsGzwwsLwLmpwMDw']\n"
     ]
    }
   ],
   "source": [
    "first_group = first_six[:3]\n",
    "print(first_group)\n",
    "second_group = first_six[3:6]\n",
    "print(second_group)"
   ]
  },
  {
   "cell_type": "code",
   "execution_count": 22,
   "id": "finite-stage",
   "metadata": {},
   "outputs": [
    {
     "name": "stdout",
     "output_type": "stream",
     "text": [
      "r\n",
      "Z\n"
     ]
    }
   ],
   "source": [
    "# testing for find_badge\n",
    "# first_group => r\n",
    "print(find_badge(first_group))\n",
    "# second_group => Z\n",
    "print(find_badge(second_group))"
   ]
  },
  {
   "cell_type": "code",
   "execution_count": 23,
   "id": "experienced-jimmy",
   "metadata": {},
   "outputs": [
    {
     "name": "stdout",
     "output_type": "stream",
     "text": [
      "301\n",
      "100.33333333333333\n"
     ]
    }
   ],
   "source": [
    "print(len(data))\n",
    "print(len(data)/3)"
   ]
  },
  {
   "cell_type": "code",
   "execution_count": 27,
   "id": "recovered-blood",
   "metadata": {},
   "outputs": [
    {
     "name": "stdout",
     "output_type": "stream",
     "text": [
      "\n"
     ]
    }
   ],
   "source": [
    "print(data[300])"
   ]
  },
  {
   "cell_type": "code",
   "execution_count": 28,
   "id": "precious-generator",
   "metadata": {},
   "outputs": [
    {
     "name": "stdout",
     "output_type": "stream",
     "text": [
      "300\n",
      "100.0\n"
     ]
    }
   ],
   "source": [
    "# i think the last item in the array is a blank string...\n",
    "minus_last = data[:300]\n",
    "print(len(minus_last))\n",
    "print(len(minus_last)/3)"
   ]
  },
  {
   "cell_type": "code",
   "execution_count": 29,
   "id": "chubby-brass",
   "metadata": {},
   "outputs": [],
   "source": [
    "# restructuring the data (minus_last) to give me an array of groups\n",
    "start = 0\n",
    "end = 3\n",
    "groups = []\n",
    "\n",
    "while end < 301:\n",
    "    groups.append(minus_last[start:end])\n",
    "    start += 3\n",
    "    end += 3"
   ]
  },
  {
   "cell_type": "code",
   "execution_count": 30,
   "id": "difficult-athens",
   "metadata": {},
   "outputs": [
    {
     "name": "stdout",
     "output_type": "stream",
     "text": [
      "100\n",
      "['ZTmtZvZLTFNLMQMNRvZncdcHwcScJvcdHnVfwV', 'zqjqrzqjCqrjtqWhqChqrznhcfdfVnVSVgcffcgJcSgd', 'rtDGpzjjqjlrGsWqBWFRsbTPFQMTbRNRFmbs']\n",
      "['FFlnlnVlmQqcBVhBRrSrGSwVdRJbztSt', 'NPPNsffWfNztRZSJNG', 'WpgpTTHDpgTDDpMLPGgMHslmBmmHcBQnFmcqhmnjlqQm']\n"
     ]
    }
   ],
   "source": [
    "# expectation =>  100\n",
    "print(len(groups))\n",
    "# expectation => array of three strings\n",
    "print(groups[0])\n",
    "# expectation => array of three strings\n",
    "print(groups[1])"
   ]
  },
  {
   "cell_type": "code",
   "execution_count": 31,
   "id": "superior-trauma",
   "metadata": {},
   "outputs": [],
   "source": [
    "def sum_badge_priorities(groups):\n",
    "    total = 0\n",
    "    for group in groups:\n",
    "        badge = find_badge(group)\n",
    "        total += determine_priority(badge)\n",
    "    \n",
    "    return total"
   ]
  },
  {
   "cell_type": "code",
   "execution_count": 34,
   "id": "premier-turning",
   "metadata": {},
   "outputs": [
    {
     "name": "stdout",
     "output_type": "stream",
     "text": [
      "[['vJrwpWtwJgWrhcsFMMfFFhFp', 'jqHRNqRjqzjGDLGLrsFMfFZSrLrFZsSL', 'PmmdzqPrVvPwwTWBwg'], ['wMqvLMZHhHMvwLHjbvcjnnSBnvTQFn', 'ttgJtRGJQctTZtZT', 'CrZsJsPPZsGzwwsLwLmpwMDw']]\n"
     ]
    }
   ],
   "source": [
    "test_data = [first_group, second_group]\n",
    "print(test_data)"
   ]
  },
  {
   "cell_type": "code",
   "execution_count": 35,
   "id": "centered-suggestion",
   "metadata": {},
   "outputs": [
    {
     "data": {
      "text/plain": [
       "70"
      ]
     },
     "execution_count": 35,
     "metadata": {},
     "output_type": "execute_result"
    }
   ],
   "source": [
    "# expectation => 70\n",
    "sum_badge_priorities(test_data)"
   ]
  },
  {
   "cell_type": "code",
   "execution_count": 36,
   "id": "lesbian-nudist",
   "metadata": {},
   "outputs": [
    {
     "data": {
      "text/plain": [
       "2973"
      ]
     },
     "execution_count": 36,
     "metadata": {},
     "output_type": "execute_result"
    }
   ],
   "source": [
    "sum_badge_priorities(groups)"
   ]
  },
  {
   "cell_type": "markdown",
   "id": "sized-mumbai",
   "metadata": {},
   "source": [
    "## Correct on first try *woot*"
   ]
  },
  {
   "cell_type": "code",
   "execution_count": null,
   "id": "present-shepherd",
   "metadata": {},
   "outputs": [],
   "source": []
  }
 ],
 "metadata": {
  "kernelspec": {
   "display_name": "Python 3",
   "language": "python",
   "name": "python3"
  },
  "language_info": {
   "codemirror_mode": {
    "name": "ipython",
    "version": 3
   },
   "file_extension": ".py",
   "mimetype": "text/x-python",
   "name": "python",
   "nbconvert_exporter": "python",
   "pygments_lexer": "ipython3",
   "version": "3.9.14"
  }
 },
 "nbformat": 4,
 "nbformat_minor": 5
}
