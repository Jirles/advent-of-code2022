{
 "cells": [
  {
   "cell_type": "markdown",
   "id": "adjacent-action",
   "metadata": {},
   "source": [
    "# Day 2: Rock, Paper, Scissors\n",
    "Apparently the elves are not playing rock, paper, scissors (RPS) to see who gets to be closest to the snacks. One, pleased with calculations yesterday, gave me a strategy guide to help me win. Maybe, we need to figure out if it isn't actually sabotage by calculating the score I'd get with this guide.\n",
    "\n",
    "## Game scoring\n",
    "The total of a round of RPS consists of the _outcome_ and the _shape you selected_.\n",
    "- Win - **6**\n",
    "- Draw - **3**\n",
    "- Lose - **0**\n",
    "\n",
    "- Rock - **1**\n",
    "- Paper - **2**\n",
    "- Scissors - **3**\n",
    "\n",
    "The strategy guide consists of mutliple lines of letters, ABC representing the opponent's move and XYZ representing my move. The letters correspond to RPS.\n",
    "\n",
    "## Possible outcomes\n",
    "\n",
    "| Opponent | Me | Outcome | Round Total (Me) |\n",
    "|:---------|:---|:--------|:-----------------|\n",
    "|    A     | X  |  Draw   |         4        |\n",
    "|    A     | Y  |  Win    |         8        |\n",
    "|    A     | Z  |  Lose   |         3        |\n",
    "|    B     | X  |  Lose   |         1        |\n",
    "|    B     | Y  |  Draw   |         5        |\n",
    "|    B     | Z  |  Win    |         9        |\n",
    "|    C     | X  |  Win    |         7        |\n",
    "|    C     | Y  |  Lose   |         2        |\n",
    "|    C     | Z  |  Draw   |         6        |\n",
    "\n",
    "## Input file formatting\n",
    "A text file, looks like each round is separated by a newline character `\\n` and each line is capital letters corresponding to the round. It looks like the opponent always moves first as the entries are organized `AX\\nBY`."
   ]
  },
  {
   "cell_type": "code",
   "execution_count": 3,
   "id": "passing-species",
   "metadata": {},
   "outputs": [],
   "source": [
    "file = open('input.txt')\n",
    "data = file.read().split('\\n')"
   ]
  },
  {
   "cell_type": "code",
   "execution_count": 4,
   "id": "minute-thinking",
   "metadata": {},
   "outputs": [
    {
     "data": {
      "text/plain": [
       "'A Y'"
      ]
     },
     "execution_count": 4,
     "metadata": {},
     "output_type": "execute_result"
    }
   ],
   "source": [
    "data[0]"
   ]
  },
  {
   "cell_type": "code",
   "execution_count": 5,
   "id": "limited-binary",
   "metadata": {},
   "outputs": [
    {
     "data": {
      "text/plain": [
       "['A', 'Y']"
      ]
     },
     "execution_count": 5,
     "metadata": {},
     "output_type": "execute_result"
    }
   ],
   "source": [
    "# Now I see there is a space or two between the values, let's see how many\n",
    "data[0].split(' ')"
   ]
  },
  {
   "cell_type": "code",
   "execution_count": 7,
   "id": "celtic-associate",
   "metadata": {},
   "outputs": [],
   "source": [
    "# based on the possible outcomes and the round formatting round above\n",
    "outcomes = {\n",
    "    \"A X\": 4,\n",
    "    \"A Y\": 8,\n",
    "    \"A Z\": 3,\n",
    "    \"B X\": 1,\n",
    "    \"B Y\": 5,\n",
    "    \"B Z\": 9,\n",
    "    \"C X\": 7,\n",
    "    \"C Y\": 2,\n",
    "    \"C Z\": 6,\n",
    "}"
   ]
  },
  {
   "cell_type": "code",
   "execution_count": 8,
   "id": "oriental-integral",
   "metadata": {},
   "outputs": [
    {
     "ename": "KeyError",
     "evalue": "'T Y'",
     "output_type": "error",
     "traceback": [
      "\u001b[0;31m---------------------------------------------------------------------------\u001b[0m",
      "\u001b[0;31mKeyError\u001b[0m                                  Traceback (most recent call last)",
      "\u001b[0;32m<ipython-input-8-302caa587cc0>\u001b[0m in \u001b[0;36m<module>\u001b[0;34m\u001b[0m\n\u001b[1;32m      1\u001b[0m \u001b[0;31m# what happens if a value doesn't exist on a python dict? because i forget...\u001b[0m\u001b[0;34m\u001b[0m\u001b[0;34m\u001b[0m\u001b[0m\n\u001b[0;32m----> 2\u001b[0;31m \u001b[0moutcomes\u001b[0m\u001b[0;34m[\u001b[0m\u001b[0;34m\"T Y\"\u001b[0m\u001b[0;34m]\u001b[0m\u001b[0;34m\u001b[0m\u001b[0;34m\u001b[0m\u001b[0m\n\u001b[0m",
      "\u001b[0;31mKeyError\u001b[0m: 'T Y'"
     ]
    }
   ],
   "source": [
    "# what happens if a value doesn't exist on a python dict? because i forget...\n",
    "outcomes[\"T Y\"]"
   ]
  },
  {
   "cell_type": "code",
   "execution_count": 13,
   "id": "surface-export",
   "metadata": {},
   "outputs": [],
   "source": [
    "# came back later and turned this cell into a function since it looks like \n",
    "# we can reuse it for round 2\n",
    "def calculate_rounds(outcome_dict):\n",
    "    my_total = 0\n",
    "\n",
    "    for rps_round in data:\n",
    "        # yesterday the data wasn't quite 'clean'\n",
    "        # i'm not sure if each line in the data corresponds to the\n",
    "        # expected pattern or if there are '' values lurking...\n",
    "        try:\n",
    "            outcome = outcome_dict[rps_round]\n",
    "            my_total += outcome\n",
    "        except:\n",
    "            print(rps_round)\n",
    "    return my_total\n"
   ]
  },
  {
   "cell_type": "code",
   "execution_count": 14,
   "id": "deadly-airfare",
   "metadata": {},
   "outputs": [
    {
     "name": "stdout",
     "output_type": "stream",
     "text": [
      "\n"
     ]
    },
    {
     "data": {
      "text/plain": [
       "11906"
      ]
     },
     "execution_count": 14,
     "metadata": {},
     "output_type": "execute_result"
    }
   ],
   "source": [
    "calculate_rounds(outcomes)"
   ]
  },
  {
   "cell_type": "markdown",
   "id": "parliamentary-forestry",
   "metadata": {},
   "source": [
    "# Correct!\n",
    "### Star count: 3\n",
    "\n",
    "## Part 2\n",
    "Apparently we interpreted the strategy guide incorrectly. XYZ doesn't correspond to RPS, but to whether you need to Lose (X), Draw (Y), Win (Z). Keeping in mind the round scoring, the updated outcomes are as follows:\n",
    "- Win - **6**\n",
    "- Draw - **3**\n",
    "- Lose - **0**\n",
    "\n",
    "- Rock - **1**\n",
    "- Paper - **2**\n",
    "- Scissors - **3**\n",
    "\n",
    "| Opponent | Desired Outcome | Me | Round Total (Me) |\n",
    "|:---------|:----------------|:---|:-----------------|\n",
    "|    A     |    X - Lose     |  S |         3        |\n",
    "|    A     |    Y - Draw     |  R |         4        |\n",
    "|    A     |    Z - Win      |  P |         8        |\n",
    "|    B     |    X - Lose     |  R |         1        |\n",
    "|    B     |    Y - Draw     |  P |         5        |\n",
    "|    B     |    Z - Win      |  S |         9        |\n",
    "|    C     |    X - Lose     |  P |         2        |\n",
    "|    C     |    Y - Draw     |  S |         6        |\n",
    "|    C     |    Z - Win      |  R |         7        |"
   ]
  },
  {
   "cell_type": "code",
   "execution_count": 15,
   "id": "martial-arrangement",
   "metadata": {},
   "outputs": [
    {
     "name": "stdout",
     "output_type": "stream",
     "text": [
      "\n"
     ]
    },
    {
     "data": {
      "text/plain": [
       "11186"
      ]
     },
     "execution_count": 15,
     "metadata": {},
     "output_type": "execute_result"
    }
   ],
   "source": [
    "# based on our new understanding\n",
    "revised_outcomes = {\n",
    "    \"A X\": 3,\n",
    "    \"A Y\": 4,\n",
    "    \"A Z\": 8,\n",
    "    \"B X\": 1,\n",
    "    \"B Y\": 5,\n",
    "    \"B Z\": 9,\n",
    "    \"C X\": 2,\n",
    "    \"C Y\": 6,\n",
    "    \"C Z\": 7,\n",
    "}\n",
    "\n",
    "calculate_rounds(revised_outcomes)"
   ]
  },
  {
   "cell_type": "markdown",
   "id": "confidential-bahrain",
   "metadata": {},
   "source": [
    "# Correct!\n",
    "### Star count: 4"
   ]
  },
  {
   "cell_type": "code",
   "execution_count": null,
   "id": "aboriginal-hughes",
   "metadata": {},
   "outputs": [],
   "source": []
  }
 ],
 "metadata": {
  "kernelspec": {
   "display_name": "Python 3",
   "language": "python",
   "name": "python3"
  },
  "language_info": {
   "codemirror_mode": {
    "name": "ipython",
    "version": 3
   },
   "file_extension": ".py",
   "mimetype": "text/x-python",
   "name": "python",
   "nbconvert_exporter": "python",
   "pygments_lexer": "ipython3",
   "version": "3.9.14"
  }
 },
 "nbformat": 4,
 "nbformat_minor": 5
}
