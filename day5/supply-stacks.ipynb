{
 "cells": [
  {
   "cell_type": "markdown",
   "id": "extended-consequence",
   "metadata": {},
   "source": [
    "# We be stacking boxes\n",
    "\n",
    "OK, so the elves are trying to unload boxes from the ship. Have a stack of boxes (designed with letters, see formatting section) and the directions that the crane operator is going to follow. We need to find out which boxes will be on top.\n",
    "\n",
    "## Input formatting\n",
    "\n",
    "It looks real weird. Here is the sample provided by the advent website:\n",
    "\n",
    "```\n",
    "    [D]    \n",
    "[N] [C]    \n",
    "[Z] [M] [P]\n",
    " 1   2   3 \n",
    "\n",
    "move 1 from 2 to 1\n",
    "move 3 from 1 to 3\n",
    "move 2 from 2 to 1\n",
    "move 1 from 1 to 2\n",
    "```\n",
    "The actual input file has 9 stacks. Not entirely sure how I'm going to break down the this text file...\n",
    "\n",
    "## The plan...\n",
    "I believe I can split the stacks and the instructions on a `/n/n`. Instructions can then be split by `\\n` and eventually rearranged so we end up with a dictionary for each line that looks like\n",
    "```\n",
    "{ \"move\": 1, \"from\": 2, \"to\": 1}\n",
    "```\n",
    "which we can then use to determine how many boxes we are moving from where/to. \n",
    "\n",
    "As for the boxes, that's going to be more complicated. We're gonna have to split on `\\n` to get each line, then we can split lines by `' '`, I believe. After that I think we're going to start from the bottom up (tallest stack is 8 boxes) and add the `[A]` to another dictionary whose values are arrays of boxes:\n",
    "```\n",
    "{ \"1\": [ \"[A]\", \"[G]\" ], \"2\": [ \"[J]\", \"[H]\", \"[C]\" ] ... }\n",
    "```\n",
    "where the last value in the array is the box on top of the stack."
   ]
  },
  {
   "cell_type": "code",
   "execution_count": 1,
   "id": "understood-ending",
   "metadata": {},
   "outputs": [],
   "source": [
    "file = open('input.txt')\n",
    "# split into boxes and instructions\n",
    "data = file.read().split('\\n\\n')\n",
    "box_data = data[0]\n",
    "instruction_data = data[1]"
   ]
  },
  {
   "cell_type": "code",
   "execution_count": 2,
   "id": "functioning-fellowship",
   "metadata": {},
   "outputs": [
    {
     "data": {
      "text/plain": [
       "'            [J] [Z] [G]            \\n            [Z] [T] [S] [P] [R]    \\n[R]         [Q] [V] [B] [G] [J]    \\n[W] [W]     [N] [L] [V] [W] [C]    \\n[F] [Q]     [T] [G] [C] [T] [T] [W]\\n[H] [D] [W] [W] [H] [T] [R] [M] [B]\\n[T] [G] [T] [R] [B] [P] [B] [G] [G]\\n[S] [S] [B] [D] [F] [L] [Z] [N] [L]\\n 1   2   3   4   5   6   7   8   9 '"
      ]
     },
     "execution_count": 2,
     "metadata": {},
     "output_type": "execute_result"
    }
   ],
   "source": [
    "box_data"
   ]
  },
  {
   "cell_type": "code",
   "execution_count": 3,
   "id": "cleared-monday",
   "metadata": {},
   "outputs": [
    {
     "data": {
      "text/plain": [
       "'move 4 from 2 to 1\\nmove 1 from 6 to 9\\nmove 6 from 4 to 7\\nmove 1 from 2 to 5\\nmove 3 from 6 to 3\\nmove 4 from 3 to 9\\nmove 2 from 1 to 3\\nmove 6 from 7 to 5\\nmove 5 from 7 to 6\\nmove 6 from 8 to 7\\nmove 6 from 7 to 6\\nmove 1 from 8 to 3\\nmove 15 from 6 to 4\\nmove 7 from 5 to 6\\nmove 1 from 7 to 2\\nmove 2 from 5 to 3\\nmove 5 from 9 to 8\\nmove 5 from 5 to 6\\nmove 1 from 7 to 4\\nmove 5 from 6 to 5\\nmove 3 from 3 to 8\\nmove 4 from 5 to 8\\nmove 1 from 2 to 8\\nmove 7 from 1 to 2\\nmove 2 from 6 to 2\\nmove 2 from 5 to 8\\nmove 1 from 1 to 8\\nmove 8 from 2 to 6\\nmove 3 from 3 to 4\\nmove 4 from 9 to 3\\nmove 5 from 3 to 6\\nmove 5 from 6 to 8\\nmove 3 from 4 to 8\\nmove 13 from 6 to 5\\nmove 14 from 4 to 8\\nmove 1 from 2 to 6\\nmove 1 from 4 to 2\\nmove 12 from 5 to 4\\nmove 30 from 8 to 6\\nmove 1 from 8 to 9\\nmove 1 from 9 to 4\\nmove 15 from 4 to 5\\nmove 1 from 2 to 9\\nmove 1 from 4 to 2\\nmove 1 from 2 to 1\\nmove 1 from 9 to 3\\nmove 8 from 5 to 7\\nmove 2 from 5 to 6\\nmove 7 from 8 to 1\\nmove 1 from 3 to 4\\nmove 1 from 7 to 3\\nmove 1 from 4 to 6\\nmove 26 from 6 to 7\\nmove 1 from 3 to 7\\nmove 3 from 7 to 2\\nmove 1 from 1 to 9\\nmove 16 from 7 to 5\\nmove 2 from 7 to 4\\nmove 12 from 7 to 6\\nmove 1 from 1 to 9\\nmove 4 from 6 to 1\\nmove 7 from 1 to 5\\nmove 2 from 1 to 8\\nmove 1 from 7 to 2\\nmove 1 from 1 to 4\\nmove 2 from 4 to 5\\nmove 1 from 9 to 4\\nmove 3 from 6 to 9\\nmove 8 from 6 to 5\\nmove 5 from 5 to 9\\nmove 19 from 5 to 8\\nmove 1 from 9 to 8\\nmove 3 from 8 to 7\\nmove 1 from 7 to 3\\nmove 8 from 5 to 2\\nmove 2 from 4 to 2\\nmove 4 from 9 to 8\\nmove 1 from 2 to 3\\nmove 2 from 3 to 2\\nmove 4 from 9 to 5\\nmove 8 from 8 to 4\\nmove 9 from 8 to 5\\nmove 5 from 8 to 4\\nmove 5 from 5 to 7\\nmove 12 from 2 to 3\\nmove 2 from 2 to 8\\nmove 1 from 8 to 6\\nmove 1 from 8 to 7\\nmove 10 from 4 to 3\\nmove 1 from 2 to 9\\nmove 13 from 5 to 3\\nmove 1 from 7 to 5\\nmove 27 from 3 to 4\\nmove 1 from 8 to 7\\nmove 3 from 5 to 2\\nmove 6 from 6 to 3\\nmove 2 from 4 to 1\\nmove 27 from 4 to 2\\nmove 2 from 7 to 8\\nmove 23 from 2 to 4\\nmove 2 from 1 to 4\\nmove 2 from 7 to 2\\nmove 4 from 2 to 9\\nmove 10 from 3 to 4\\nmove 1 from 3 to 5\\nmove 1 from 5 to 1\\nmove 5 from 2 to 5\\nmove 30 from 4 to 2\\nmove 1 from 8 to 9\\nmove 1 from 8 to 1\\nmove 27 from 2 to 3\\nmove 2 from 4 to 2\\nmove 1 from 9 to 4\\nmove 2 from 1 to 3\\nmove 8 from 3 to 7\\nmove 19 from 3 to 1\\nmove 1 from 4 to 7\\nmove 5 from 9 to 1\\nmove 4 from 2 to 9\\nmove 4 from 3 to 4\\nmove 1 from 3 to 5\\nmove 1 from 2 to 7\\nmove 1 from 9 to 3\\nmove 1 from 9 to 1\\nmove 5 from 5 to 4\\nmove 5 from 7 to 3\\nmove 1 from 5 to 6\\nmove 23 from 1 to 6\\nmove 1 from 9 to 2\\nmove 1 from 2 to 5\\nmove 24 from 6 to 9\\nmove 6 from 4 to 7\\nmove 4 from 4 to 8\\nmove 1 from 4 to 9\\nmove 4 from 7 to 4\\nmove 4 from 3 to 4\\nmove 4 from 9 to 8\\nmove 6 from 7 to 9\\nmove 4 from 7 to 6\\nmove 1 from 1 to 4\\nmove 2 from 6 to 4\\nmove 1 from 6 to 2\\nmove 1 from 1 to 8\\nmove 1 from 7 to 3\\nmove 1 from 6 to 9\\nmove 13 from 4 to 2\\nmove 3 from 3 to 2\\nmove 15 from 9 to 8\\nmove 1 from 5 to 9\\nmove 5 from 9 to 1\\nmove 4 from 1 to 7\\nmove 4 from 7 to 3\\nmove 8 from 2 to 7\\nmove 9 from 8 to 2\\nmove 1 from 1 to 2\\nmove 7 from 9 to 2\\nmove 4 from 3 to 1\\nmove 4 from 1 to 4\\nmove 2 from 9 to 1\\nmove 20 from 2 to 8\\nmove 3 from 4 to 8\\nmove 1 from 2 to 3\\nmove 4 from 2 to 7\\nmove 1 from 3 to 4\\nmove 1 from 9 to 3\\nmove 1 from 4 to 7\\nmove 1 from 2 to 5\\nmove 1 from 4 to 3\\nmove 2 from 1 to 6\\nmove 1 from 5 to 6\\nmove 1 from 7 to 1\\nmove 12 from 7 to 2\\nmove 12 from 2 to 6\\nmove 9 from 6 to 2\\nmove 1 from 6 to 8\\nmove 1 from 3 to 9\\nmove 8 from 2 to 4\\nmove 1 from 9 to 6\\nmove 1 from 4 to 6\\nmove 4 from 4 to 9\\nmove 1 from 4 to 9\\nmove 1 from 1 to 5\\nmove 2 from 6 to 3\\nmove 1 from 5 to 4\\nmove 1 from 2 to 8\\nmove 10 from 8 to 6\\nmove 10 from 8 to 3\\nmove 1 from 3 to 4\\nmove 8 from 8 to 1\\nmove 3 from 9 to 8\\nmove 2 from 9 to 1\\nmove 11 from 6 to 7\\nmove 1 from 1 to 7\\nmove 8 from 1 to 4\\nmove 3 from 6 to 7\\nmove 1 from 1 to 4\\nmove 14 from 8 to 6\\nmove 1 from 8 to 7\\nmove 1 from 6 to 8\\nmove 6 from 4 to 1\\nmove 1 from 8 to 5\\nmove 4 from 1 to 8\\nmove 2 from 7 to 1\\nmove 1 from 6 to 7\\nmove 5 from 4 to 2\\nmove 2 from 4 to 3\\nmove 4 from 2 to 8\\nmove 15 from 7 to 3\\nmove 3 from 3 to 6\\nmove 1 from 5 to 2\\nmove 21 from 3 to 6\\nmove 2 from 8 to 7\\nmove 1 from 7 to 8\\nmove 32 from 6 to 9\\nmove 1 from 7 to 8\\nmove 5 from 8 to 4\\nmove 2 from 8 to 7\\nmove 14 from 9 to 8\\nmove 14 from 8 to 1\\nmove 2 from 6 to 1\\nmove 2 from 7 to 4\\nmove 1 from 9 to 3\\nmove 17 from 9 to 5\\nmove 6 from 1 to 8\\nmove 4 from 4 to 6\\nmove 2 from 2 to 5\\nmove 2 from 8 to 2\\nmove 1 from 6 to 7\\nmove 2 from 2 to 6\\nmove 4 from 3 to 2\\nmove 7 from 6 to 3\\nmove 6 from 5 to 7\\nmove 1 from 8 to 9\\nmove 1 from 6 to 7\\nmove 4 from 8 to 6\\nmove 1 from 9 to 3\\nmove 4 from 1 to 4\\nmove 12 from 5 to 9\\nmove 7 from 7 to 8\\nmove 3 from 4 to 2\\nmove 8 from 9 to 4\\nmove 2 from 6 to 2\\nmove 1 from 7 to 4\\nmove 2 from 6 to 9\\nmove 1 from 5 to 3\\nmove 1 from 8 to 1\\nmove 2 from 8 to 7\\nmove 2 from 2 to 9\\nmove 7 from 2 to 3\\nmove 8 from 4 to 1\\nmove 2 from 8 to 4\\nmove 4 from 9 to 7\\nmove 2 from 9 to 5\\nmove 16 from 1 to 3\\nmove 3 from 7 to 4\\nmove 1 from 7 to 6\\nmove 1 from 6 to 2\\nmove 2 from 5 to 3\\nmove 10 from 4 to 2\\nmove 2 from 8 to 7\\nmove 19 from 3 to 8\\nmove 17 from 3 to 9\\nmove 3 from 1 to 7\\nmove 17 from 9 to 2\\nmove 1 from 7 to 5\\nmove 1 from 7 to 5\\nmove 2 from 5 to 7\\nmove 2 from 9 to 2\\nmove 6 from 7 to 6\\nmove 3 from 6 to 7\\nmove 1 from 8 to 9\\nmove 1 from 9 to 3\\nmove 4 from 2 to 5\\nmove 17 from 2 to 3\\nmove 3 from 7 to 5\\nmove 1 from 5 to 3\\nmove 7 from 2 to 3\\nmove 2 from 2 to 4\\nmove 1 from 7 to 1\\nmove 1 from 1 to 5\\nmove 2 from 5 to 3\\nmove 1 from 4 to 5\\nmove 1 from 4 to 3\\nmove 14 from 3 to 5\\nmove 17 from 8 to 7\\nmove 2 from 6 to 2\\nmove 12 from 3 to 5\\nmove 15 from 5 to 9\\nmove 7 from 7 to 3\\nmove 7 from 7 to 6\\nmove 1 from 2 to 3\\nmove 11 from 9 to 6\\nmove 13 from 5 to 7\\nmove 10 from 6 to 8\\nmove 6 from 8 to 3\\nmove 2 from 5 to 8\\nmove 1 from 2 to 9\\nmove 10 from 7 to 6\\nmove 9 from 6 to 8\\nmove 1 from 5 to 1\\nmove 10 from 6 to 4\\nmove 8 from 4 to 5\\nmove 1 from 1 to 2\\nmove 3 from 9 to 1\\nmove 10 from 3 to 7\\nmove 1 from 4 to 7\\nmove 12 from 7 to 9\\nmove 7 from 3 to 5\\nmove 13 from 8 to 7\\nmove 3 from 9 to 5\\nmove 5 from 5 to 6\\nmove 3 from 1 to 9\\nmove 5 from 9 to 6\\nmove 10 from 6 to 4\\nmove 15 from 7 to 5\\nmove 3 from 9 to 4\\nmove 1 from 4 to 3\\nmove 3 from 8 to 9\\nmove 6 from 9 to 6\\nmove 2 from 5 to 1\\nmove 1 from 2 to 7\\nmove 12 from 5 to 8\\nmove 3 from 9 to 5\\nmove 11 from 5 to 6\\nmove 1 from 1 to 2\\nmove 1 from 2 to 8\\nmove 3 from 7 to 8\\nmove 10 from 8 to 3\\nmove 1 from 1 to 7\\nmove 10 from 4 to 9\\nmove 1 from 7 to 8\\nmove 5 from 5 to 3\\nmove 15 from 6 to 5\\nmove 8 from 3 to 9\\nmove 3 from 4 to 5\\nmove 1 from 7 to 8\\nmove 8 from 8 to 9\\nmove 1 from 6 to 5\\nmove 5 from 3 to 2\\nmove 5 from 2 to 3\\nmove 5 from 9 to 8\\nmove 1 from 6 to 8\\nmove 2 from 5 to 1\\nmove 4 from 3 to 2\\nmove 16 from 5 to 6\\nmove 3 from 5 to 9\\nmove 4 from 8 to 5\\nmove 8 from 6 to 4\\nmove 4 from 2 to 3\\nmove 1 from 1 to 4\\nmove 6 from 3 to 6\\nmove 24 from 9 to 2\\nmove 1 from 1 to 9\\nmove 1 from 9 to 4\\nmove 2 from 4 to 5\\nmove 1 from 3 to 2\\nmove 10 from 6 to 8\\nmove 22 from 2 to 6\\nmove 1 from 2 to 7\\nmove 1 from 7 to 5\\nmove 10 from 8 to 9\\nmove 7 from 9 to 3\\nmove 6 from 4 to 8\\nmove 3 from 9 to 2\\nmove 5 from 8 to 3\\nmove 1 from 4 to 1\\nmove 1 from 8 to 3\\nmove 3 from 6 to 2\\nmove 5 from 5 to 1\\nmove 1 from 5 to 3\\nmove 5 from 6 to 3\\nmove 1 from 2 to 7\\nmove 16 from 3 to 2\\nmove 1 from 8 to 1\\nmove 1 from 4 to 7\\nmove 1 from 5 to 3\\nmove 6 from 6 to 4\\nmove 14 from 2 to 8\\nmove 3 from 3 to 5\\nmove 2 from 3 to 6\\nmove 3 from 5 to 6\\nmove 4 from 6 to 4\\nmove 3 from 4 to 8\\nmove 7 from 2 to 9\\nmove 2 from 2 to 1\\nmove 9 from 8 to 4\\nmove 7 from 1 to 7\\nmove 8 from 7 to 5\\nmove 2 from 8 to 4\\nmove 3 from 9 to 6\\nmove 4 from 4 to 6\\nmove 1 from 7 to 3\\nmove 4 from 8 to 2\\nmove 2 from 9 to 8\\nmove 9 from 6 to 7\\nmove 1 from 9 to 8\\nmove 1 from 1 to 5\\nmove 3 from 4 to 5\\nmove 1 from 3 to 2\\nmove 5 from 8 to 2\\nmove 9 from 2 to 7\\nmove 1 from 6 to 7\\nmove 1 from 6 to 2\\nmove 9 from 7 to 4\\nmove 2 from 5 to 9\\nmove 10 from 4 to 6\\nmove 1 from 8 to 6\\nmove 5 from 4 to 3\\nmove 5 from 4 to 9\\nmove 5 from 9 to 5\\nmove 1 from 1 to 7\\nmove 4 from 7 to 8\\nmove 8 from 5 to 3\\nmove 3 from 3 to 8\\nmove 6 from 7 to 6\\nmove 3 from 3 to 1\\nmove 5 from 3 to 7\\nmove 1 from 9 to 6\\nmove 2 from 7 to 6\\nmove 1 from 9 to 3\\nmove 4 from 6 to 9\\nmove 2 from 2 to 6\\nmove 1 from 7 to 3\\nmove 6 from 5 to 4\\nmove 7 from 6 to 9\\nmove 6 from 6 to 8\\nmove 2 from 1 to 2\\nmove 1 from 5 to 1\\nmove 5 from 8 to 5\\nmove 1 from 3 to 9\\nmove 4 from 4 to 5\\nmove 10 from 9 to 2\\nmove 14 from 6 to 4\\nmove 1 from 3 to 8\\nmove 1 from 8 to 5\\nmove 2 from 7 to 9\\nmove 1 from 1 to 2\\nmove 14 from 4 to 7\\nmove 1 from 1 to 4\\nmove 3 from 4 to 1\\nmove 3 from 5 to 1\\nmove 6 from 5 to 1\\nmove 10 from 7 to 3\\nmove 6 from 1 to 5\\nmove 6 from 1 to 7\\nmove 3 from 8 to 3\\nmove 1 from 5 to 1\\nmove 3 from 9 to 6\\nmove 1 from 9 to 3\\nmove 6 from 5 to 9\\nmove 2 from 6 to 1\\nmove 9 from 2 to 1\\nmove 6 from 9 to 6\\nmove 2 from 8 to 7\\nmove 5 from 7 to 3\\nmove 7 from 7 to 5\\nmove 4 from 2 to 8\\nmove 6 from 8 to 3\\nmove 1 from 9 to 4\\nmove 1 from 7 to 3\\nmove 2 from 5 to 3\\nmove 7 from 6 to 4\\nmove 28 from 3 to 4\\nmove 1 from 3 to 8\\nmove 1 from 5 to 9\\nmove 9 from 4 to 5\\nmove 12 from 4 to 5\\nmove 2 from 4 to 6\\nmove 5 from 4 to 6\\nmove 1 from 3 to 8\\nmove 10 from 5 to 8\\nmove 10 from 5 to 4\\nmove 5 from 5 to 9\\nmove 3 from 4 to 1\\nmove 5 from 6 to 9\\nmove 2 from 6 to 7\\nmove 2 from 7 to 5\\nmove 10 from 9 to 4\\nmove 1 from 8 to 5\\nmove 5 from 1 to 5\\nmove 8 from 8 to 7\\nmove 8 from 5 to 3\\nmove 8 from 7 to 8\\nmove 2 from 8 to 2\\nmove 7 from 3 to 2\\nmove 21 from 4 to 7\\nmove 10 from 1 to 9\\nmove 3 from 4 to 5\\nmove 1 from 4 to 8\\nmove 1 from 8 to 3\\nmove 7 from 8 to 5\\nmove 2 from 3 to 1\\nmove 7 from 7 to 2\\nmove 1 from 1 to 4\\nmove 1 from 1 to 6\\nmove 8 from 9 to 3\\nmove 2 from 8 to 4\\nmove 3 from 3 to 1\\nmove 3 from 4 to 7\\nmove 1 from 6 to 7\\nmove 5 from 2 to 4\\nmove 2 from 1 to 6\\n'"
      ]
     },
     "execution_count": 3,
     "metadata": {},
     "output_type": "execute_result"
    }
   ],
   "source": [
    "instruction_data"
   ]
  },
  {
   "cell_type": "code",
   "execution_count": 4,
   "id": "grave-exclusive",
   "metadata": {},
   "outputs": [],
   "source": [
    "# gonna need to get rid of the last line\n",
    "split_structs = instruction_data.split('\\n')\n",
    "instructions = split_structs[:(len(split_structs)-1)]"
   ]
  },
  {
   "cell_type": "code",
   "execution_count": 5,
   "id": "configured-temple",
   "metadata": {},
   "outputs": [
    {
     "data": {
      "text/plain": [
       "['move 4 from 2 to 1',\n",
       " 'move 1 from 6 to 9',\n",
       " 'move 6 from 4 to 7',\n",
       " 'move 1 from 2 to 5',\n",
       " 'move 3 from 6 to 3',\n",
       " 'move 4 from 3 to 9',\n",
       " 'move 2 from 1 to 3',\n",
       " 'move 6 from 7 to 5',\n",
       " 'move 5 from 7 to 6',\n",
       " 'move 6 from 8 to 7',\n",
       " 'move 6 from 7 to 6',\n",
       " 'move 1 from 8 to 3',\n",
       " 'move 15 from 6 to 4',\n",
       " 'move 7 from 5 to 6',\n",
       " 'move 1 from 7 to 2',\n",
       " 'move 2 from 5 to 3',\n",
       " 'move 5 from 9 to 8',\n",
       " 'move 5 from 5 to 6',\n",
       " 'move 1 from 7 to 4',\n",
       " 'move 5 from 6 to 5',\n",
       " 'move 3 from 3 to 8',\n",
       " 'move 4 from 5 to 8',\n",
       " 'move 1 from 2 to 8',\n",
       " 'move 7 from 1 to 2',\n",
       " 'move 2 from 6 to 2',\n",
       " 'move 2 from 5 to 8',\n",
       " 'move 1 from 1 to 8',\n",
       " 'move 8 from 2 to 6',\n",
       " 'move 3 from 3 to 4',\n",
       " 'move 4 from 9 to 3',\n",
       " 'move 5 from 3 to 6',\n",
       " 'move 5 from 6 to 8',\n",
       " 'move 3 from 4 to 8',\n",
       " 'move 13 from 6 to 5',\n",
       " 'move 14 from 4 to 8',\n",
       " 'move 1 from 2 to 6',\n",
       " 'move 1 from 4 to 2',\n",
       " 'move 12 from 5 to 4',\n",
       " 'move 30 from 8 to 6',\n",
       " 'move 1 from 8 to 9',\n",
       " 'move 1 from 9 to 4',\n",
       " 'move 15 from 4 to 5',\n",
       " 'move 1 from 2 to 9',\n",
       " 'move 1 from 4 to 2',\n",
       " 'move 1 from 2 to 1',\n",
       " 'move 1 from 9 to 3',\n",
       " 'move 8 from 5 to 7',\n",
       " 'move 2 from 5 to 6',\n",
       " 'move 7 from 8 to 1',\n",
       " 'move 1 from 3 to 4',\n",
       " 'move 1 from 7 to 3',\n",
       " 'move 1 from 4 to 6',\n",
       " 'move 26 from 6 to 7',\n",
       " 'move 1 from 3 to 7',\n",
       " 'move 3 from 7 to 2',\n",
       " 'move 1 from 1 to 9',\n",
       " 'move 16 from 7 to 5',\n",
       " 'move 2 from 7 to 4',\n",
       " 'move 12 from 7 to 6',\n",
       " 'move 1 from 1 to 9',\n",
       " 'move 4 from 6 to 1',\n",
       " 'move 7 from 1 to 5',\n",
       " 'move 2 from 1 to 8',\n",
       " 'move 1 from 7 to 2',\n",
       " 'move 1 from 1 to 4',\n",
       " 'move 2 from 4 to 5',\n",
       " 'move 1 from 9 to 4',\n",
       " 'move 3 from 6 to 9',\n",
       " 'move 8 from 6 to 5',\n",
       " 'move 5 from 5 to 9',\n",
       " 'move 19 from 5 to 8',\n",
       " 'move 1 from 9 to 8',\n",
       " 'move 3 from 8 to 7',\n",
       " 'move 1 from 7 to 3',\n",
       " 'move 8 from 5 to 2',\n",
       " 'move 2 from 4 to 2',\n",
       " 'move 4 from 9 to 8',\n",
       " 'move 1 from 2 to 3',\n",
       " 'move 2 from 3 to 2',\n",
       " 'move 4 from 9 to 5',\n",
       " 'move 8 from 8 to 4',\n",
       " 'move 9 from 8 to 5',\n",
       " 'move 5 from 8 to 4',\n",
       " 'move 5 from 5 to 7',\n",
       " 'move 12 from 2 to 3',\n",
       " 'move 2 from 2 to 8',\n",
       " 'move 1 from 8 to 6',\n",
       " 'move 1 from 8 to 7',\n",
       " 'move 10 from 4 to 3',\n",
       " 'move 1 from 2 to 9',\n",
       " 'move 13 from 5 to 3',\n",
       " 'move 1 from 7 to 5',\n",
       " 'move 27 from 3 to 4',\n",
       " 'move 1 from 8 to 7',\n",
       " 'move 3 from 5 to 2',\n",
       " 'move 6 from 6 to 3',\n",
       " 'move 2 from 4 to 1',\n",
       " 'move 27 from 4 to 2',\n",
       " 'move 2 from 7 to 8',\n",
       " 'move 23 from 2 to 4',\n",
       " 'move 2 from 1 to 4',\n",
       " 'move 2 from 7 to 2',\n",
       " 'move 4 from 2 to 9',\n",
       " 'move 10 from 3 to 4',\n",
       " 'move 1 from 3 to 5',\n",
       " 'move 1 from 5 to 1',\n",
       " 'move 5 from 2 to 5',\n",
       " 'move 30 from 4 to 2',\n",
       " 'move 1 from 8 to 9',\n",
       " 'move 1 from 8 to 1',\n",
       " 'move 27 from 2 to 3',\n",
       " 'move 2 from 4 to 2',\n",
       " 'move 1 from 9 to 4',\n",
       " 'move 2 from 1 to 3',\n",
       " 'move 8 from 3 to 7',\n",
       " 'move 19 from 3 to 1',\n",
       " 'move 1 from 4 to 7',\n",
       " 'move 5 from 9 to 1',\n",
       " 'move 4 from 2 to 9',\n",
       " 'move 4 from 3 to 4',\n",
       " 'move 1 from 3 to 5',\n",
       " 'move 1 from 2 to 7',\n",
       " 'move 1 from 9 to 3',\n",
       " 'move 1 from 9 to 1',\n",
       " 'move 5 from 5 to 4',\n",
       " 'move 5 from 7 to 3',\n",
       " 'move 1 from 5 to 6',\n",
       " 'move 23 from 1 to 6',\n",
       " 'move 1 from 9 to 2',\n",
       " 'move 1 from 2 to 5',\n",
       " 'move 24 from 6 to 9',\n",
       " 'move 6 from 4 to 7',\n",
       " 'move 4 from 4 to 8',\n",
       " 'move 1 from 4 to 9',\n",
       " 'move 4 from 7 to 4',\n",
       " 'move 4 from 3 to 4',\n",
       " 'move 4 from 9 to 8',\n",
       " 'move 6 from 7 to 9',\n",
       " 'move 4 from 7 to 6',\n",
       " 'move 1 from 1 to 4',\n",
       " 'move 2 from 6 to 4',\n",
       " 'move 1 from 6 to 2',\n",
       " 'move 1 from 1 to 8',\n",
       " 'move 1 from 7 to 3',\n",
       " 'move 1 from 6 to 9',\n",
       " 'move 13 from 4 to 2',\n",
       " 'move 3 from 3 to 2',\n",
       " 'move 15 from 9 to 8',\n",
       " 'move 1 from 5 to 9',\n",
       " 'move 5 from 9 to 1',\n",
       " 'move 4 from 1 to 7',\n",
       " 'move 4 from 7 to 3',\n",
       " 'move 8 from 2 to 7',\n",
       " 'move 9 from 8 to 2',\n",
       " 'move 1 from 1 to 2',\n",
       " 'move 7 from 9 to 2',\n",
       " 'move 4 from 3 to 1',\n",
       " 'move 4 from 1 to 4',\n",
       " 'move 2 from 9 to 1',\n",
       " 'move 20 from 2 to 8',\n",
       " 'move 3 from 4 to 8',\n",
       " 'move 1 from 2 to 3',\n",
       " 'move 4 from 2 to 7',\n",
       " 'move 1 from 3 to 4',\n",
       " 'move 1 from 9 to 3',\n",
       " 'move 1 from 4 to 7',\n",
       " 'move 1 from 2 to 5',\n",
       " 'move 1 from 4 to 3',\n",
       " 'move 2 from 1 to 6',\n",
       " 'move 1 from 5 to 6',\n",
       " 'move 1 from 7 to 1',\n",
       " 'move 12 from 7 to 2',\n",
       " 'move 12 from 2 to 6',\n",
       " 'move 9 from 6 to 2',\n",
       " 'move 1 from 6 to 8',\n",
       " 'move 1 from 3 to 9',\n",
       " 'move 8 from 2 to 4',\n",
       " 'move 1 from 9 to 6',\n",
       " 'move 1 from 4 to 6',\n",
       " 'move 4 from 4 to 9',\n",
       " 'move 1 from 4 to 9',\n",
       " 'move 1 from 1 to 5',\n",
       " 'move 2 from 6 to 3',\n",
       " 'move 1 from 5 to 4',\n",
       " 'move 1 from 2 to 8',\n",
       " 'move 10 from 8 to 6',\n",
       " 'move 10 from 8 to 3',\n",
       " 'move 1 from 3 to 4',\n",
       " 'move 8 from 8 to 1',\n",
       " 'move 3 from 9 to 8',\n",
       " 'move 2 from 9 to 1',\n",
       " 'move 11 from 6 to 7',\n",
       " 'move 1 from 1 to 7',\n",
       " 'move 8 from 1 to 4',\n",
       " 'move 3 from 6 to 7',\n",
       " 'move 1 from 1 to 4',\n",
       " 'move 14 from 8 to 6',\n",
       " 'move 1 from 8 to 7',\n",
       " 'move 1 from 6 to 8',\n",
       " 'move 6 from 4 to 1',\n",
       " 'move 1 from 8 to 5',\n",
       " 'move 4 from 1 to 8',\n",
       " 'move 2 from 7 to 1',\n",
       " 'move 1 from 6 to 7',\n",
       " 'move 5 from 4 to 2',\n",
       " 'move 2 from 4 to 3',\n",
       " 'move 4 from 2 to 8',\n",
       " 'move 15 from 7 to 3',\n",
       " 'move 3 from 3 to 6',\n",
       " 'move 1 from 5 to 2',\n",
       " 'move 21 from 3 to 6',\n",
       " 'move 2 from 8 to 7',\n",
       " 'move 1 from 7 to 8',\n",
       " 'move 32 from 6 to 9',\n",
       " 'move 1 from 7 to 8',\n",
       " 'move 5 from 8 to 4',\n",
       " 'move 2 from 8 to 7',\n",
       " 'move 14 from 9 to 8',\n",
       " 'move 14 from 8 to 1',\n",
       " 'move 2 from 6 to 1',\n",
       " 'move 2 from 7 to 4',\n",
       " 'move 1 from 9 to 3',\n",
       " 'move 17 from 9 to 5',\n",
       " 'move 6 from 1 to 8',\n",
       " 'move 4 from 4 to 6',\n",
       " 'move 2 from 2 to 5',\n",
       " 'move 2 from 8 to 2',\n",
       " 'move 1 from 6 to 7',\n",
       " 'move 2 from 2 to 6',\n",
       " 'move 4 from 3 to 2',\n",
       " 'move 7 from 6 to 3',\n",
       " 'move 6 from 5 to 7',\n",
       " 'move 1 from 8 to 9',\n",
       " 'move 1 from 6 to 7',\n",
       " 'move 4 from 8 to 6',\n",
       " 'move 1 from 9 to 3',\n",
       " 'move 4 from 1 to 4',\n",
       " 'move 12 from 5 to 9',\n",
       " 'move 7 from 7 to 8',\n",
       " 'move 3 from 4 to 2',\n",
       " 'move 8 from 9 to 4',\n",
       " 'move 2 from 6 to 2',\n",
       " 'move 1 from 7 to 4',\n",
       " 'move 2 from 6 to 9',\n",
       " 'move 1 from 5 to 3',\n",
       " 'move 1 from 8 to 1',\n",
       " 'move 2 from 8 to 7',\n",
       " 'move 2 from 2 to 9',\n",
       " 'move 7 from 2 to 3',\n",
       " 'move 8 from 4 to 1',\n",
       " 'move 2 from 8 to 4',\n",
       " 'move 4 from 9 to 7',\n",
       " 'move 2 from 9 to 5',\n",
       " 'move 16 from 1 to 3',\n",
       " 'move 3 from 7 to 4',\n",
       " 'move 1 from 7 to 6',\n",
       " 'move 1 from 6 to 2',\n",
       " 'move 2 from 5 to 3',\n",
       " 'move 10 from 4 to 2',\n",
       " 'move 2 from 8 to 7',\n",
       " 'move 19 from 3 to 8',\n",
       " 'move 17 from 3 to 9',\n",
       " 'move 3 from 1 to 7',\n",
       " 'move 17 from 9 to 2',\n",
       " 'move 1 from 7 to 5',\n",
       " 'move 1 from 7 to 5',\n",
       " 'move 2 from 5 to 7',\n",
       " 'move 2 from 9 to 2',\n",
       " 'move 6 from 7 to 6',\n",
       " 'move 3 from 6 to 7',\n",
       " 'move 1 from 8 to 9',\n",
       " 'move 1 from 9 to 3',\n",
       " 'move 4 from 2 to 5',\n",
       " 'move 17 from 2 to 3',\n",
       " 'move 3 from 7 to 5',\n",
       " 'move 1 from 5 to 3',\n",
       " 'move 7 from 2 to 3',\n",
       " 'move 2 from 2 to 4',\n",
       " 'move 1 from 7 to 1',\n",
       " 'move 1 from 1 to 5',\n",
       " 'move 2 from 5 to 3',\n",
       " 'move 1 from 4 to 5',\n",
       " 'move 1 from 4 to 3',\n",
       " 'move 14 from 3 to 5',\n",
       " 'move 17 from 8 to 7',\n",
       " 'move 2 from 6 to 2',\n",
       " 'move 12 from 3 to 5',\n",
       " 'move 15 from 5 to 9',\n",
       " 'move 7 from 7 to 3',\n",
       " 'move 7 from 7 to 6',\n",
       " 'move 1 from 2 to 3',\n",
       " 'move 11 from 9 to 6',\n",
       " 'move 13 from 5 to 7',\n",
       " 'move 10 from 6 to 8',\n",
       " 'move 6 from 8 to 3',\n",
       " 'move 2 from 5 to 8',\n",
       " 'move 1 from 2 to 9',\n",
       " 'move 10 from 7 to 6',\n",
       " 'move 9 from 6 to 8',\n",
       " 'move 1 from 5 to 1',\n",
       " 'move 10 from 6 to 4',\n",
       " 'move 8 from 4 to 5',\n",
       " 'move 1 from 1 to 2',\n",
       " 'move 3 from 9 to 1',\n",
       " 'move 10 from 3 to 7',\n",
       " 'move 1 from 4 to 7',\n",
       " 'move 12 from 7 to 9',\n",
       " 'move 7 from 3 to 5',\n",
       " 'move 13 from 8 to 7',\n",
       " 'move 3 from 9 to 5',\n",
       " 'move 5 from 5 to 6',\n",
       " 'move 3 from 1 to 9',\n",
       " 'move 5 from 9 to 6',\n",
       " 'move 10 from 6 to 4',\n",
       " 'move 15 from 7 to 5',\n",
       " 'move 3 from 9 to 4',\n",
       " 'move 1 from 4 to 3',\n",
       " 'move 3 from 8 to 9',\n",
       " 'move 6 from 9 to 6',\n",
       " 'move 2 from 5 to 1',\n",
       " 'move 1 from 2 to 7',\n",
       " 'move 12 from 5 to 8',\n",
       " 'move 3 from 9 to 5',\n",
       " 'move 11 from 5 to 6',\n",
       " 'move 1 from 1 to 2',\n",
       " 'move 1 from 2 to 8',\n",
       " 'move 3 from 7 to 8',\n",
       " 'move 10 from 8 to 3',\n",
       " 'move 1 from 1 to 7',\n",
       " 'move 10 from 4 to 9',\n",
       " 'move 1 from 7 to 8',\n",
       " 'move 5 from 5 to 3',\n",
       " 'move 15 from 6 to 5',\n",
       " 'move 8 from 3 to 9',\n",
       " 'move 3 from 4 to 5',\n",
       " 'move 1 from 7 to 8',\n",
       " 'move 8 from 8 to 9',\n",
       " 'move 1 from 6 to 5',\n",
       " 'move 5 from 3 to 2',\n",
       " 'move 5 from 2 to 3',\n",
       " 'move 5 from 9 to 8',\n",
       " 'move 1 from 6 to 8',\n",
       " 'move 2 from 5 to 1',\n",
       " 'move 4 from 3 to 2',\n",
       " 'move 16 from 5 to 6',\n",
       " 'move 3 from 5 to 9',\n",
       " 'move 4 from 8 to 5',\n",
       " 'move 8 from 6 to 4',\n",
       " 'move 4 from 2 to 3',\n",
       " 'move 1 from 1 to 4',\n",
       " 'move 6 from 3 to 6',\n",
       " 'move 24 from 9 to 2',\n",
       " 'move 1 from 1 to 9',\n",
       " 'move 1 from 9 to 4',\n",
       " 'move 2 from 4 to 5',\n",
       " 'move 1 from 3 to 2',\n",
       " 'move 10 from 6 to 8',\n",
       " 'move 22 from 2 to 6',\n",
       " 'move 1 from 2 to 7',\n",
       " 'move 1 from 7 to 5',\n",
       " 'move 10 from 8 to 9',\n",
       " 'move 7 from 9 to 3',\n",
       " 'move 6 from 4 to 8',\n",
       " 'move 3 from 9 to 2',\n",
       " 'move 5 from 8 to 3',\n",
       " 'move 1 from 4 to 1',\n",
       " 'move 1 from 8 to 3',\n",
       " 'move 3 from 6 to 2',\n",
       " 'move 5 from 5 to 1',\n",
       " 'move 1 from 5 to 3',\n",
       " 'move 5 from 6 to 3',\n",
       " 'move 1 from 2 to 7',\n",
       " 'move 16 from 3 to 2',\n",
       " 'move 1 from 8 to 1',\n",
       " 'move 1 from 4 to 7',\n",
       " 'move 1 from 5 to 3',\n",
       " 'move 6 from 6 to 4',\n",
       " 'move 14 from 2 to 8',\n",
       " 'move 3 from 3 to 5',\n",
       " 'move 2 from 3 to 6',\n",
       " 'move 3 from 5 to 6',\n",
       " 'move 4 from 6 to 4',\n",
       " 'move 3 from 4 to 8',\n",
       " 'move 7 from 2 to 9',\n",
       " 'move 2 from 2 to 1',\n",
       " 'move 9 from 8 to 4',\n",
       " 'move 7 from 1 to 7',\n",
       " 'move 8 from 7 to 5',\n",
       " 'move 2 from 8 to 4',\n",
       " 'move 3 from 9 to 6',\n",
       " 'move 4 from 4 to 6',\n",
       " 'move 1 from 7 to 3',\n",
       " 'move 4 from 8 to 2',\n",
       " 'move 2 from 9 to 8',\n",
       " 'move 9 from 6 to 7',\n",
       " 'move 1 from 9 to 8',\n",
       " 'move 1 from 1 to 5',\n",
       " 'move 3 from 4 to 5',\n",
       " 'move 1 from 3 to 2',\n",
       " 'move 5 from 8 to 2',\n",
       " 'move 9 from 2 to 7',\n",
       " 'move 1 from 6 to 7',\n",
       " 'move 1 from 6 to 2',\n",
       " 'move 9 from 7 to 4',\n",
       " 'move 2 from 5 to 9',\n",
       " 'move 10 from 4 to 6',\n",
       " 'move 1 from 8 to 6',\n",
       " 'move 5 from 4 to 3',\n",
       " 'move 5 from 4 to 9',\n",
       " 'move 5 from 9 to 5',\n",
       " 'move 1 from 1 to 7',\n",
       " 'move 4 from 7 to 8',\n",
       " 'move 8 from 5 to 3',\n",
       " 'move 3 from 3 to 8',\n",
       " 'move 6 from 7 to 6',\n",
       " 'move 3 from 3 to 1',\n",
       " 'move 5 from 3 to 7',\n",
       " 'move 1 from 9 to 6',\n",
       " 'move 2 from 7 to 6',\n",
       " 'move 1 from 9 to 3',\n",
       " 'move 4 from 6 to 9',\n",
       " 'move 2 from 2 to 6',\n",
       " 'move 1 from 7 to 3',\n",
       " 'move 6 from 5 to 4',\n",
       " 'move 7 from 6 to 9',\n",
       " 'move 6 from 6 to 8',\n",
       " 'move 2 from 1 to 2',\n",
       " 'move 1 from 5 to 1',\n",
       " 'move 5 from 8 to 5',\n",
       " 'move 1 from 3 to 9',\n",
       " 'move 4 from 4 to 5',\n",
       " 'move 10 from 9 to 2',\n",
       " 'move 14 from 6 to 4',\n",
       " 'move 1 from 3 to 8',\n",
       " 'move 1 from 8 to 5',\n",
       " 'move 2 from 7 to 9',\n",
       " 'move 1 from 1 to 2',\n",
       " 'move 14 from 4 to 7',\n",
       " 'move 1 from 1 to 4',\n",
       " 'move 3 from 4 to 1',\n",
       " 'move 3 from 5 to 1',\n",
       " 'move 6 from 5 to 1',\n",
       " 'move 10 from 7 to 3',\n",
       " 'move 6 from 1 to 5',\n",
       " 'move 6 from 1 to 7',\n",
       " 'move 3 from 8 to 3',\n",
       " 'move 1 from 5 to 1',\n",
       " 'move 3 from 9 to 6',\n",
       " 'move 1 from 9 to 3',\n",
       " 'move 6 from 5 to 9',\n",
       " 'move 2 from 6 to 1',\n",
       " 'move 9 from 2 to 1',\n",
       " 'move 6 from 9 to 6',\n",
       " 'move 2 from 8 to 7',\n",
       " 'move 5 from 7 to 3',\n",
       " 'move 7 from 7 to 5',\n",
       " 'move 4 from 2 to 8',\n",
       " 'move 6 from 8 to 3',\n",
       " 'move 1 from 9 to 4',\n",
       " 'move 1 from 7 to 3',\n",
       " 'move 2 from 5 to 3',\n",
       " 'move 7 from 6 to 4',\n",
       " 'move 28 from 3 to 4',\n",
       " 'move 1 from 3 to 8',\n",
       " 'move 1 from 5 to 9',\n",
       " 'move 9 from 4 to 5',\n",
       " 'move 12 from 4 to 5',\n",
       " 'move 2 from 4 to 6',\n",
       " 'move 5 from 4 to 6',\n",
       " 'move 1 from 3 to 8',\n",
       " 'move 10 from 5 to 8',\n",
       " 'move 10 from 5 to 4',\n",
       " 'move 5 from 5 to 9',\n",
       " 'move 3 from 4 to 1',\n",
       " 'move 5 from 6 to 9',\n",
       " 'move 2 from 6 to 7',\n",
       " 'move 2 from 7 to 5',\n",
       " 'move 10 from 9 to 4',\n",
       " 'move 1 from 8 to 5',\n",
       " 'move 5 from 1 to 5',\n",
       " 'move 8 from 8 to 7',\n",
       " 'move 8 from 5 to 3',\n",
       " 'move 8 from 7 to 8',\n",
       " 'move 2 from 8 to 2',\n",
       " 'move 7 from 3 to 2',\n",
       " 'move 21 from 4 to 7',\n",
       " 'move 10 from 1 to 9',\n",
       " 'move 3 from 4 to 5',\n",
       " 'move 1 from 4 to 8',\n",
       " 'move 1 from 8 to 3',\n",
       " 'move 7 from 8 to 5',\n",
       " 'move 2 from 3 to 1',\n",
       " 'move 7 from 7 to 2',\n",
       " 'move 1 from 1 to 4',\n",
       " 'move 1 from 1 to 6',\n",
       " 'move 8 from 9 to 3',\n",
       " 'move 2 from 8 to 4',\n",
       " 'move 3 from 3 to 1',\n",
       " 'move 3 from 4 to 7',\n",
       " 'move 1 from 6 to 7',\n",
       " 'move 5 from 2 to 4',\n",
       " 'move 2 from 1 to 6']"
      ]
     },
     "execution_count": 5,
     "metadata": {},
     "output_type": "execute_result"
    }
   ],
   "source": [
    "instructions"
   ]
  },
  {
   "cell_type": "code",
   "execution_count": 6,
   "id": "banner-silence",
   "metadata": {},
   "outputs": [
    {
     "data": {
      "text/plain": [
       "['            [J] [Z] [G]            ',\n",
       " '            [Z] [T] [S] [P] [R]    ',\n",
       " '[R]         [Q] [V] [B] [G] [J]    ',\n",
       " '[W] [W]     [N] [L] [V] [W] [C]    ',\n",
       " '[F] [Q]     [T] [G] [C] [T] [T] [W]',\n",
       " '[H] [D] [W] [W] [H] [T] [R] [M] [B]',\n",
       " '[T] [G] [T] [R] [B] [P] [B] [G] [G]',\n",
       " '[S] [S] [B] [D] [F] [L] [Z] [N] [L]',\n",
       " ' 1   2   3   4   5   6   7   8   9 ']"
      ]
     },
     "execution_count": 6,
     "metadata": {},
     "output_type": "execute_result"
    }
   ],
   "source": [
    "split_boxes = box_data.split('\\n')\n",
    "split_boxes"
   ]
  },
  {
   "cell_type": "code",
   "execution_count": 7,
   "id": "shaped-deputy",
   "metadata": {},
   "outputs": [
    {
     "data": {
      "text/plain": [
       "' 1   2   3   4   5   6   7   8   9 '"
      ]
     },
     "execution_count": 7,
     "metadata": {},
     "output_type": "execute_result"
    }
   ],
   "source": [
    "split_boxes.pop()"
   ]
  },
  {
   "cell_type": "code",
   "execution_count": 8,
   "id": "informational-softball",
   "metadata": {},
   "outputs": [
    {
     "data": {
      "text/plain": [
       "['            [J] [Z] [G]            ',\n",
       " '            [Z] [T] [S] [P] [R]    ',\n",
       " '[R]         [Q] [V] [B] [G] [J]    ',\n",
       " '[W] [W]     [N] [L] [V] [W] [C]    ',\n",
       " '[F] [Q]     [T] [G] [C] [T] [T] [W]',\n",
       " '[H] [D] [W] [W] [H] [T] [R] [M] [B]',\n",
       " '[T] [G] [T] [R] [B] [P] [B] [G] [G]',\n",
       " '[S] [S] [B] [D] [F] [L] [Z] [N] [L]']"
      ]
     },
     "execution_count": 8,
     "metadata": {},
     "output_type": "execute_result"
    }
   ],
   "source": [
    "split_boxes"
   ]
  },
  {
   "cell_type": "code",
   "execution_count": 14,
   "id": "greatest-first",
   "metadata": {},
   "outputs": [],
   "source": [
    "# not entirely sure how we're going to do this... let's test this\n",
    "test_box_line = split_boxes[0].split(' ')"
   ]
  },
  {
   "cell_type": "code",
   "execution_count": 15,
   "id": "insured-equity",
   "metadata": {},
   "outputs": [
    {
     "data": {
      "text/plain": [
       "27"
      ]
     },
     "execution_count": 15,
     "metadata": {},
     "output_type": "execute_result"
    }
   ],
   "source": [
    "len(test_box_line)"
   ]
  },
  {
   "cell_type": "code",
   "execution_count": 16,
   "id": "addressed-jesus",
   "metadata": {},
   "outputs": [
    {
     "name": "stdout",
     "output_type": "stream",
     "text": [
      "21\n"
     ]
    }
   ],
   "source": [
    "test_box_line2 = split_boxes[1].split(' ')\n",
    "print(len(test_box_line2))"
   ]
  },
  {
   "cell_type": "code",
   "execution_count": 17,
   "id": "existing-rolling",
   "metadata": {},
   "outputs": [
    {
     "name": "stdout",
     "output_type": "stream",
     "text": [
      "9\n"
     ]
    }
   ],
   "source": [
    "test_box_line3 = split_boxes[7].split(' ')\n",
    "print(len(test_box_line3))"
   ]
  },
  {
   "cell_type": "code",
   "execution_count": 20,
   "id": "veterinary-corporation",
   "metadata": {},
   "outputs": [
    {
     "name": "stdout",
     "output_type": "stream",
     "text": [
      "S\n",
      "S\n",
      "B\n",
      "D\n",
      "F\n",
      "L\n",
      "Z\n",
      "N\n",
      "L\n"
     ]
    }
   ],
   "source": [
    "# counting indexes: 1, 5, 9, 13, 17, 21, 25, 29, 33\n",
    "box_idx = [1, 5, 9, 13, 17, 21, 25, 29, 33]\n",
    "for i in box_idx:\n",
    "    print(split_boxes[7][i])\n"
   ]
  },
  {
   "cell_type": "code",
   "execution_count": 27,
   "id": "geographic-extension",
   "metadata": {},
   "outputs": [
    {
     "data": {
      "text/plain": [
       "{'1': ['S', 'T', 'H', 'F', 'W', 'R'],\n",
       " '2': ['S', 'G', 'D', 'Q', 'W'],\n",
       " '3': ['B', 'T', 'W'],\n",
       " '4': ['D', 'R', 'W', 'T', 'N', 'Q', 'Z', 'J'],\n",
       " '5': ['F', 'B', 'H', 'G', 'L', 'V', 'T', 'Z'],\n",
       " '6': ['L', 'P', 'T', 'C', 'V', 'B', 'S', 'G'],\n",
       " '7': ['Z', 'B', 'R', 'T', 'W', 'G', 'P'],\n",
       " '8': ['N', 'G', 'M', 'T', 'C', 'J', 'R'],\n",
       " '9': ['L', 'G', 'B', 'W']}"
      ]
     },
     "execution_count": 27,
     "metadata": {},
     "output_type": "execute_result"
    }
   ],
   "source": [
    "boxes = {\n",
    "    \"1\": [],\n",
    "    \"2\": [],\n",
    "    \"3\": [],\n",
    "    \"4\": [],\n",
    "    \"5\": [],\n",
    "    \"6\": [],\n",
    "    \"7\": [],\n",
    "    \"8\": [],\n",
    "    \"9\": []\n",
    "}\n",
    "# starting from the bottom of the stack (idx 7)\n",
    "stack_idx = 7\n",
    "while stack_idx >= 0:\n",
    "    stack = split_boxes[stack_idx]\n",
    "    for i, box in enumerate(box_idx):\n",
    "        # add the box (letter) to the correct number stack\n",
    "        if not stack[box].isspace():\n",
    "            boxes[str(i + 1)].append(stack[box])\n",
    "    stack_idx -= 1\n",
    "boxes"
   ]
  },
  {
   "cell_type": "markdown",
   "id": "emerging-parking",
   "metadata": {},
   "source": [
    "## And now that that's done\n",
    "\n",
    "Data is now ready for processing. In order to answer today's question we need to move the boxes in `boxes` around according to each line of our `instructions`. Each line in `instructions` will tell us how many boxes to move `instruction[\"move\"]`, from which stack `instruction[\"from\"]`, and where to `instruction[\"to\"]`. `move` instructions will have to be a `for _ in range(i)`. `from` will utilize `pop` to remove  the last item from an array and then `append` the value to the `to` stack."
   ]
  },
  {
   "cell_type": "code",
   "execution_count": 29,
   "id": "saving-midwest",
   "metadata": {},
   "outputs": [
    {
     "data": {
      "text/plain": [
       "{'move': 3, 'from': 4, 'to': 7}"
      ]
     },
     "execution_count": 29,
     "metadata": {},
     "output_type": "execute_result"
    }
   ],
   "source": [
    "# move 3 from 4 to 7\n",
    "def setup_instructions(line):\n",
    "    split = line.split(' ')\n",
    "    return { \"move\": int(split[1]), \"from\": int(split[3]), \"to\": int(split[5]) }\n",
    "\n",
    "# { \"move\": 3, \"from\": 4, \"to\": 7}\n",
    "setup_instructions('move 3 from 4 to 7')"
   ]
  },
  {
   "cell_type": "code",
   "execution_count": 35,
   "id": "instant-grave",
   "metadata": {},
   "outputs": [],
   "source": [
    "move, frm, to = { \"move\": 3, \"from\": 4, \"to\": 7}.values()"
   ]
  },
  {
   "cell_type": "code",
   "execution_count": 36,
   "id": "optional-premises",
   "metadata": {},
   "outputs": [
    {
     "data": {
      "text/plain": [
       "4"
      ]
     },
     "execution_count": 36,
     "metadata": {},
     "output_type": "execute_result"
    }
   ],
   "source": [
    "frm"
   ]
  },
  {
   "cell_type": "code",
   "execution_count": 42,
   "id": "separated-mattress",
   "metadata": {},
   "outputs": [],
   "source": [
    "def execute_instruction(boxes, instruction):\n",
    "    move, frm, to = instruction.values()\n",
    "    for _ in range(move):\n",
    "        box = boxes[str(frm)].pop()\n",
    "        boxes[str(to)].append(box)\n",
    "    return"
   ]
  },
  {
   "cell_type": "code",
   "execution_count": 43,
   "id": "selective-sharing",
   "metadata": {},
   "outputs": [
    {
     "name": "stdout",
     "output_type": "stream",
     "text": [
      "None\n",
      "{'1': ['Z', 'N', 'D'], '2': ['M', 'C'], '3': ['P']}\n"
     ]
    }
   ],
   "source": [
    "test_structs = [ \n",
    "    'move 1 from 2 to 1',\n",
    "    'move 3 from 1 to 3',\n",
    "    'move 2 from 2 to 1',\n",
    "    'move 1 from 1 to 2'\n",
    "]\n",
    "test_struct1 = { 'move': 1, 'from': 2, 'to': 1 }\n",
    "test_struct2 = {'move': 3, 'from': 1, 'to': 3 }\n",
    "test_boxes = {\n",
    "    \"1\": ['Z', 'N'],\n",
    "    \"2\": ['M', 'C', 'D'],\n",
    "    \"3\": ['P']\n",
    "}\n",
    "\n",
    "# \"1\": ['Z', 'N', 'D'],\n",
    "# \"2\": ['M', 'C'],\n",
    "# \"3\": ['P']\n",
    "execute_instruction(test_boxes, test_struct1)\n",
    "print(test_box1)\n",
    "print(test_boxes)"
   ]
  },
  {
   "cell_type": "code",
   "execution_count": 46,
   "id": "periodic-penny",
   "metadata": {},
   "outputs": [
    {
     "data": {
      "text/plain": [
       "{'1': ['Z', 'N', 'D', 'C', 'M'], '2': [], '3': ['P']}"
      ]
     },
     "execution_count": 46,
     "metadata": {},
     "output_type": "execute_result"
    }
   ],
   "source": [
    "# \"1\": [],\n",
    "# \"2\": ['M', 'C'],\n",
    "# \"3\": ['P', 'D', 'N', 'Z']\n",
    "execute_instruction(test_boxes, test_struct1)\n",
    "test_boxes"
   ]
  },
  {
   "cell_type": "code",
   "execution_count": 47,
   "id": "young-saudi",
   "metadata": {},
   "outputs": [
    {
     "data": {
      "text/plain": [
       "{'1': [], '2': ['M', 'C'], '3': ['P', 'D', 'N', 'Z']}"
      ]
     },
     "execution_count": 47,
     "metadata": {},
     "output_type": "execute_result"
    }
   ],
   "source": [
    "# resetting\n",
    "test_boxes = {'1': ['Z', 'N', 'D'], '2': ['M', 'C'], '3': ['P'] }\n",
    "execute_instruction(test_boxes, test_struct2)\n",
    "test_boxes"
   ]
  },
  {
   "cell_type": "code",
   "execution_count": 49,
   "id": "framed-correlation",
   "metadata": {},
   "outputs": [
    {
     "data": {
      "text/plain": [
       "{'1': ['C'], '2': ['M'], '3': ['P', 'D', 'N', 'Z']}"
      ]
     },
     "execution_count": 49,
     "metadata": {},
     "output_type": "execute_result"
    }
   ],
   "source": [
    "def move_boxes(boxes, instructions):\n",
    "    for line in instructions:\n",
    "        instruction = setup_instructions(line)\n",
    "        execute_instruction(boxes, instruction)\n",
    "    return\n",
    "\n",
    "# have to reset, this is why you really shouldn't alter original data\n",
    "test_data = {\n",
    "    \"1\": ['Z', 'N'],\n",
    "    \"2\": ['M', 'C', 'D'],\n",
    "    \"3\": ['P']\n",
    "}\n",
    "test_copy = test_data.copy()\n",
    "\n",
    "# [C]\n",
    "# [M]\n",
    "# [P, D, N, Z]\n",
    "move_boxes(test_copy, test_structs)\n",
    "test_copy"
   ]
  },
  {
   "cell_type": "code",
   "execution_count": 50,
   "id": "comic-mexican",
   "metadata": {},
   "outputs": [
    {
     "data": {
      "text/plain": [
       "{'1': ['Z'],\n",
       " '2': ['G', 'T', 'S', 'W', 'T', 'D', 'Z', 'R', 'M', 'J', 'R'],\n",
       " '3': ['V', 'W', 'T', 'T', 'L'],\n",
       " '4': ['G', 'P', 'L', 'Q', 'J'],\n",
       " '5': ['Z', 'B', 'P', 'G', 'L', 'C', 'B', 'W', 'N', 'G'],\n",
       " '6': ['H', 'S'],\n",
       " '7': ['D',\n",
       "  'W',\n",
       "  'H',\n",
       "  'B',\n",
       "  'V',\n",
       "  'W',\n",
       "  'G',\n",
       "  'R',\n",
       "  'T',\n",
       "  'B',\n",
       "  'T',\n",
       "  'F',\n",
       "  'Q',\n",
       "  'W',\n",
       "  'F',\n",
       "  'S',\n",
       "  'N',\n",
       "  'C'],\n",
       " '8': ['T'],\n",
       " '9': ['B', 'G', 'R']}"
      ]
     },
     "execution_count": 50,
     "metadata": {},
     "output_type": "execute_result"
    }
   ],
   "source": [
    "boxes_copy = boxes.copy()\n",
    "move_boxes(boxes_copy, instructions)\n",
    "boxes_copy"
   ]
  },
  {
   "cell_type": "markdown",
   "id": "nonprofit-driver",
   "metadata": {},
   "source": [
    "# Got it! Finally...\n",
    "\n",
    "Answer based on above cell is `ZRLJGSCTR`. Now we find out that the boxes are going to be moved in a different manner because the crane is capable of picking up multiple boxes at once. So if the instructions say to move three boxes to another stack, the three retain their original order. So we're slicing arrays now. \n",
    "\n",
    "Using same instructions and same boxes, only need to update `execute_instructions` and `move_boxes`."
   ]
  },
  {
   "cell_type": "code",
   "execution_count": 68,
   "id": "collaborative-soldier",
   "metadata": {},
   "outputs": [],
   "source": [
    "# the particular kind of crane that moves multiple boxes at once is version 9001 \n",
    "def execute_9001_instruction(boxes, instruction):\n",
    "    move, frm, to = instruction.values()\n",
    "    moved_boxes = []\n",
    "    for _ in range(move):\n",
    "        box = boxes[str(frm)].pop()\n",
    "        moved_boxes.append(box)\n",
    "    moved_boxes.reverse()\n",
    "    boxes[str(to)].extend(moved_boxes)\n",
    "    return"
   ]
  },
  {
   "cell_type": "code",
   "execution_count": 69,
   "id": "assumed-objective",
   "metadata": {},
   "outputs": [],
   "source": [
    "# expected\n",
    "# [Z, N]\n",
    "# [M]\n",
    "# [P, 'C', 'D']\n",
    "test_data_again = {\n",
    "    \"1\": ['Z', 'N'],\n",
    "    \"2\": ['M', 'C', 'D'],\n",
    "    \"3\": ['P']\n",
    "}\n",
    "execute_9001_instruction(test_data_again, {'move': 2, 'from': 2, 'to': 3})"
   ]
  },
  {
   "cell_type": "code",
   "execution_count": 70,
   "id": "brave-hepatitis",
   "metadata": {},
   "outputs": [
    {
     "data": {
      "text/plain": [
       "{'1': ['Z', 'N'], '2': ['M'], '3': ['P', 'C', 'D']}"
      ]
     },
     "execution_count": 70,
     "metadata": {},
     "output_type": "execute_result"
    }
   ],
   "source": [
    "test_data_again"
   ]
  },
  {
   "cell_type": "code",
   "execution_count": 71,
   "id": "quantitative-enzyme",
   "metadata": {},
   "outputs": [
    {
     "data": {
      "text/plain": [
       "{'1': ['M'], '2': ['C'], '3': ['P', 'Z', 'N', 'D']}"
      ]
     },
     "execution_count": 71,
     "metadata": {},
     "output_type": "execute_result"
    }
   ],
   "source": [
    "def move_boxes_pt2(boxes, instructions):\n",
    "    for line in instructions:\n",
    "        instruction = setup_instructions(line)\n",
    "        execute_9001_instruction(boxes, instruction)\n",
    "    return\n",
    "\n",
    "test_data = {\n",
    "    \"1\": ['Z', 'N'],\n",
    "    \"2\": ['M', 'C', 'D'],\n",
    "    \"3\": ['P']\n",
    "}\n",
    "\n",
    "# [M]\n",
    "# [C]\n",
    "# [P, Z, N, D]\n",
    "move_boxes_pt2(test_data, test_structs)\n",
    "test_data"
   ]
  },
  {
   "cell_type": "code",
   "execution_count": 73,
   "id": "norwegian-commons",
   "metadata": {},
   "outputs": [
    {
     "data": {
      "text/plain": [
       "{'1': ['P'],\n",
       " '2': ['S', 'B', 'H', 'W', 'G', 'L', 'H', 'Z', 'B', 'R', 'R'],\n",
       " '3': ['Z', 'M', 'C', 'J', 'T'],\n",
       " '4': ['L', 'W', 'G', 'D', 'T'],\n",
       " '5': ['T', 'J', 'N', 'B', 'T', 'S', 'W', 'W', 'N', 'G'],\n",
       " '6': ['G', 'R'],\n",
       " '7': ['V',\n",
       "  'T',\n",
       "  'W',\n",
       "  'L',\n",
       "  'D',\n",
       "  'R',\n",
       "  'Z',\n",
       "  'Q',\n",
       "  'B',\n",
       "  'T',\n",
       "  'F',\n",
       "  'Q',\n",
       "  'T',\n",
       "  'C',\n",
       "  'G',\n",
       "  'S',\n",
       "  'W',\n",
       "  'F'],\n",
       " '8': ['P'],\n",
       " '9': ['V', 'G', 'B']}"
      ]
     },
     "execution_count": 73,
     "metadata": {},
     "output_type": "execute_result"
    }
   ],
   "source": [
    "boxes_pt2 = {'1': ['S', 'T', 'H', 'F', 'W', 'R'],\n",
    " '2': ['S', 'G', 'D', 'Q', 'W'],\n",
    " '3': ['B', 'T', 'W'],\n",
    " '4': ['D', 'R', 'W', 'T', 'N', 'Q', 'Z', 'J'],\n",
    " '5': ['F', 'B', 'H', 'G', 'L', 'V', 'T', 'Z'],\n",
    " '6': ['L', 'P', 'T', 'C', 'V', 'B', 'S', 'G'],\n",
    " '7': ['Z', 'B', 'R', 'T', 'W', 'G', 'P'],\n",
    " '8': ['N', 'G', 'M', 'T', 'C', 'J', 'R'],\n",
    " '9': ['L', 'G', 'B', 'W']}\n",
    "move_boxes_pt2(boxes_pt2, instructions)\n",
    "boxes_pt2"
   ]
  },
  {
   "cell_type": "markdown",
   "id": "declared-guyana",
   "metadata": {},
   "source": [
    "# Got it. PRTTGRFPB"
   ]
  },
  {
   "cell_type": "code",
   "execution_count": null,
   "id": "occupational-murder",
   "metadata": {},
   "outputs": [],
   "source": []
  }
 ],
 "metadata": {
  "kernelspec": {
   "display_name": "Python 3",
   "language": "python",
   "name": "python3"
  },
  "language_info": {
   "codemirror_mode": {
    "name": "ipython",
    "version": 3
   },
   "file_extension": ".py",
   "mimetype": "text/x-python",
   "name": "python",
   "nbconvert_exporter": "python",
   "pygments_lexer": "ipython3",
   "version": "3.9.14"
  }
 },
 "nbformat": 4,
 "nbformat_minor": 5
}
