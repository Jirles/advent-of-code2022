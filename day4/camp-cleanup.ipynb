{
 "cells": [
  {
   "cell_type": "markdown",
   "id": "contemporary-billion",
   "metadata": {},
   "source": [
    "## We're cleaning up camp\n",
    "\n",
    "The elves are pairing up to clean the campsite. To make it clear who cleans what, the campsite has been split into sections and the elves have been given ranges that represent what sections to clean. But some pairs have noticed that they're cleaning the exact same sections, or that one of them are cleaning sections their partner will already have cleaned. We need to find how many of these pairs have assigments that **fully** encompass the other.\n",
    "\n",
    "### Input\n",
    "```\n",
    "2-4,6-8\n",
    "2-3,4-5\n",
    "5-7,7-9\n",
    "2-8,3-7\n",
    "6-6,4-6\n",
    "2-6,4-8\n",
    "```\n",
    "\n",
    "Each line represents one pair of elves, their respective assignments are separated by a comma. The first line in the sampe data shows that elf 1 has sections 2,3,4 while elf 2 has sections 6,7,8."
   ]
  },
  {
   "cell_type": "code",
   "execution_count": 5,
   "id": "agreed-protocol",
   "metadata": {},
   "outputs": [],
   "source": [
    "# assignments will be an array of each elf pair's assignments\n",
    "# [ '2-4', '6-8' ]\n",
    "def evaluate_assignemnt_overlap(assignments):\n",
    "    elf_1 = assignments[0]\n",
    "    elf_1_last = assignments[0][2]\n",
    "    elf_2_first = assignments[1][0]\n",
    "    elf_2_last = assignments[1][2]\n",
    "    \n",
    "    first_overlaps_second = (elf_1_first <= elf_2_first) and (elf_1_last >= elf_2_last)\n",
    "    second_overlaps_first = (elf_2_first <= elf_1_first) and (elf_2_last >= elf_1_last)\n",
    "    \n",
    "    return (first_overlaps_second or second_overlaps_first)"
   ]
  },
  {
   "cell_type": "code",
   "execution_count": 6,
   "id": "later-archive",
   "metadata": {},
   "outputs": [
    {
     "name": "stdout",
     "output_type": "stream",
     "text": [
      "False\n",
      "False\n",
      "True\n",
      "True\n"
     ]
    }
   ],
   "source": [
    "# [ '2-4', '6-8' ] => false\n",
    "print(evaluate_assignemnt_overlap([ '2-4', '6-8' ]))\n",
    "# [ '6-8', '2-4' ] => false\n",
    "print(evaluate_assignemnt_overlap([ '6-8', '2-4' ]))\n",
    "# [ '2-8', '3-7' ] => true\n",
    "print(evaluate_assignemnt_overlap([ '2-8', '3-7' ]))\n",
    "# [ '6-6', '4-6' ] => true\n",
    "print(evalue_assignemnt_overlap([ '6-6', '4-6' ]))"
   ]
  },
  {
   "cell_type": "code",
   "execution_count": 7,
   "id": "certified-flooring",
   "metadata": {},
   "outputs": [],
   "source": [
    "def count_overlapped_assignments(pairs):\n",
    "    count = 0\n",
    "    \n",
    "    for pair in pairs:\n",
    "        assignments = pair.split(',')\n",
    "        overlap = evaluate_assignemnt_overlap(assignments)\n",
    "        if overlap:\n",
    "            count += 1\n",
    "    \n",
    "    return count"
   ]
  },
  {
   "cell_type": "code",
   "execution_count": 8,
   "id": "portable-substance",
   "metadata": {},
   "outputs": [
    {
     "data": {
      "text/plain": [
       "2"
      ]
     },
     "execution_count": 8,
     "metadata": {},
     "output_type": "execute_result"
    }
   ],
   "source": [
    "test_data = [\n",
    "    '2-4,6-8',\n",
    "    '2-3,4-5',\n",
    "    '5-7,7-9',\n",
    "    '2-8,3-7',\n",
    "    '6-6,4-6',\n",
    "    '2-6,4-8'\n",
    "]\n",
    "\n",
    "# expectation => 2\n",
    "count_overlapped_assignments(test_data)"
   ]
  },
  {
   "cell_type": "code",
   "execution_count": 9,
   "id": "differential-major",
   "metadata": {},
   "outputs": [],
   "source": [
    "file = open('input.txt')\n",
    "data = file.read().split('\\n')"
   ]
  },
  {
   "cell_type": "code",
   "execution_count": 11,
   "id": "prescription-thickness",
   "metadata": {},
   "outputs": [
    {
     "data": {
      "text/plain": [
       "1001"
      ]
     },
     "execution_count": 11,
     "metadata": {},
     "output_type": "execute_result"
    }
   ],
   "source": [
    "len(data)"
   ]
  },
  {
   "cell_type": "code",
   "execution_count": 12,
   "id": "senior-system",
   "metadata": {},
   "outputs": [
    {
     "data": {
      "text/plain": [
       "''"
      ]
     },
     "execution_count": 12,
     "metadata": {},
     "output_type": "execute_result"
    }
   ],
   "source": [
    "data[1000]"
   ]
  },
  {
   "cell_type": "code",
   "execution_count": 13,
   "id": "variable-corrections",
   "metadata": {},
   "outputs": [],
   "source": [
    "pairs = data[:1000]"
   ]
  },
  {
   "cell_type": "code",
   "execution_count": 14,
   "id": "experimental-beijing",
   "metadata": {},
   "outputs": [
    {
     "data": {
      "text/plain": [
       "1000"
      ]
     },
     "execution_count": 14,
     "metadata": {},
     "output_type": "execute_result"
    }
   ],
   "source": [
    "len(pairs)"
   ]
  },
  {
   "cell_type": "code",
   "execution_count": 15,
   "id": "fiscal-rebel",
   "metadata": {},
   "outputs": [
    {
     "data": {
      "text/plain": [
       "874"
      ]
     },
     "execution_count": 15,
     "metadata": {},
     "output_type": "execute_result"
    }
   ],
   "source": [
    "count_overlapped_assignments(pairs)"
   ]
  },
  {
   "cell_type": "code",
   "execution_count": 17,
   "id": "buried-grill",
   "metadata": {},
   "outputs": [
    {
     "data": {
      "text/plain": [
       "'37-87,36-87'"
      ]
     },
     "execution_count": 17,
     "metadata": {},
     "output_type": "execute_result"
    }
   ],
   "source": [
    "# too high, investigating data\n",
    "pairs[0]"
   ]
  },
  {
   "cell_type": "code",
   "execution_count": 19,
   "id": "varied-skirt",
   "metadata": {},
   "outputs": [],
   "source": [
    "# i forgot that the numbers would be larger than the test data, also forgot to cast them as integers\n",
    "# refactoring\n",
    "def evaluate_assignemnt_overlap(assignments):\n",
    "    elf_1 = assignments[0].split('-')\n",
    "    elf_2 = assignments[1].split('-')\n",
    "    \n",
    "    first_overlaps_second = (int(elf_1[0]) <= int(elf_2[0])) and (int(elf_1[1]) >= int(elf_2[1]))\n",
    "    second_overlaps_first = (int(elf_2[0]) <= int(elf_1[0])) and (int(elf_2[1]) >= int(elf_1[1]))\n",
    "    \n",
    "    return (first_overlaps_second or second_overlaps_first)"
   ]
  },
  {
   "cell_type": "code",
   "execution_count": 20,
   "id": "recent-theater",
   "metadata": {},
   "outputs": [
    {
     "name": "stdout",
     "output_type": "stream",
     "text": [
      "False\n",
      "False\n",
      "True\n",
      "True\n",
      "True\n",
      "False\n"
     ]
    }
   ],
   "source": [
    "# retesting old data, to see it still works as expected\n",
    "# [ '2-4', '6-8' ] => false\n",
    "print(evaluate_assignemnt_overlap([ '2-4', '6-8' ]))\n",
    "# [ '6-8', '2-4' ] => false\n",
    "print(evaluate_assignemnt_overlap([ '6-8', '2-4' ]))\n",
    "# [ '2-8', '3-7' ] => true\n",
    "print(evaluate_assignemnt_overlap([ '2-8', '3-7' ]))\n",
    "# [ '6-6', '4-6' ] => true\n",
    "print(evalue_assignemnt_overlap([ '6-6', '4-6' ]))\n",
    "\n",
    "# adding in larger numbers too\n",
    "# ['37-87', '36-87' ] => true\n",
    "print(evaluate_assignemnt_overlap([ '37-87', '36-87' ]))\n",
    "# ['45-51', '23-46'] => false\n",
    "print(evaluate_assignemnt_overlap([ '45-51', '23-46' ]))"
   ]
  },
  {
   "cell_type": "code",
   "execution_count": 21,
   "id": "robust-orientation",
   "metadata": {},
   "outputs": [
    {
     "data": {
      "text/plain": [
       "651"
      ]
     },
     "execution_count": 21,
     "metadata": {},
     "output_type": "execute_result"
    }
   ],
   "source": [
    "# trying again with redefined evaluate_assignemnt_overlap\n",
    "count_overlapped_assignments(pairs)"
   ]
  },
  {
   "cell_type": "markdown",
   "id": "simplified-queens",
   "metadata": {},
   "source": [
    "## Got it on the second try.\n",
    "\n",
    "Now they want to know which assignments overlap at all, not just which ones are fully encompassed by the other..."
   ]
  },
  {
   "cell_type": "code",
   "execution_count": 23,
   "id": "configured-calculation",
   "metadata": {},
   "outputs": [],
   "source": [
    "# might be easier to figure if they are mutually exclusive in this scenario\n",
    "def evaluate_no_overlap(assignments):\n",
    "    elf_1 = assignments[0].split('-')\n",
    "    elf_2 = assignments[1].split('-')\n",
    "    \n",
    "    first_less_second = (int(elf_1[0]) < int(elf_2[0])) and (int(elf_1[1]) < int(elf_2[0]))\n",
    "    second_less_first = (int(elf_2[0]) < int(elf_1[0])) and (int(elf_2[1]) < int(elf_1[0]))\n",
    "    \n",
    "    return (first_less_second or second_less_first)"
   ]
  },
  {
   "cell_type": "code",
   "execution_count": 24,
   "id": "positive-quilt",
   "metadata": {},
   "outputs": [
    {
     "name": "stdout",
     "output_type": "stream",
     "text": [
      "True\n",
      "True\n",
      "False\n",
      "False\n"
     ]
    }
   ],
   "source": [
    "# [ '2-4', '6-8' ] => true\n",
    "print(evaluate_no_overlap([ '2-4', '6-8' ]))\n",
    "# [ '6-8', '2-4' ] => true\n",
    "print(evaluate_no_overlap([ '6-8', '2-4' ]))\n",
    "# [ '2-8', '3-7' ] => false\n",
    "print(evaluate_no_overlap([ '2-8', '3-7' ]))\n",
    "# ['37-87', '36-87' ] => false\n",
    "print(evaluate_no_overlap([ '37-87', '36-87' ]))\n"
   ]
  },
  {
   "cell_type": "code",
   "execution_count": 25,
   "id": "supposed-irish",
   "metadata": {},
   "outputs": [],
   "source": [
    "def count_all_overlaps(pairs, initial_count):\n",
    "    count = initial_count\n",
    "    \n",
    "    for pair in pairs:\n",
    "        assignments = pair.split(',')\n",
    "        overlap = evaluate_no_overlap(assignments)\n",
    "        if overlap:\n",
    "            count -= 1\n",
    "    \n",
    "    return count"
   ]
  },
  {
   "cell_type": "code",
   "execution_count": 26,
   "id": "severe-present",
   "metadata": {},
   "outputs": [
    {
     "data": {
      "text/plain": [
       "4"
      ]
     },
     "execution_count": 26,
     "metadata": {},
     "output_type": "execute_result"
    }
   ],
   "source": [
    "test_data = [\n",
    "    '2-4,6-8',\n",
    "    '2-3,4-5',\n",
    "    '5-7,7-9',\n",
    "    '2-8,3-7',\n",
    "    '6-6,4-6',\n",
    "    '2-6,4-8'\n",
    "]\n",
    "\n",
    "# expectation => 4\n",
    "count_all_overlaps(test_data, 6)"
   ]
  },
  {
   "cell_type": "code",
   "execution_count": 27,
   "id": "structured-restoration",
   "metadata": {},
   "outputs": [
    {
     "data": {
      "text/plain": [
       "956"
      ]
     },
     "execution_count": 27,
     "metadata": {},
     "output_type": "execute_result"
    }
   ],
   "source": [
    "count_all_overlaps(pairs, 1000)"
   ]
  },
  {
   "cell_type": "markdown",
   "id": "incredible-style",
   "metadata": {},
   "source": [
    "## Correct!\n",
    "These guys are really inefficient"
   ]
  },
  {
   "cell_type": "code",
   "execution_count": null,
   "id": "sorted-medication",
   "metadata": {},
   "outputs": [],
   "source": []
  }
 ],
 "metadata": {
  "kernelspec": {
   "display_name": "Python 3",
   "language": "python",
   "name": "python3"
  },
  "language_info": {
   "codemirror_mode": {
    "name": "ipython",
    "version": 3
   },
   "file_extension": ".py",
   "mimetype": "text/x-python",
   "name": "python",
   "nbconvert_exporter": "python",
   "pygments_lexer": "ipython3",
   "version": "3.9.14"
  }
 },
 "nbformat": 4,
 "nbformat_minor": 5
}
