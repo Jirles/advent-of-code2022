{
 "cells": [
  {
   "cell_type": "markdown",
   "id": "willing-watson",
   "metadata": {},
   "source": [
    "# Day 1: Elf calories\n",
    "\n",
    "Basically, the elves brought food with them on this journey to get some fruit for the reindeer, but they want to know how many calories each elf brought. We're tasked with calculating how much each elf brought in order to find out the max number of calories brough by a single elf. Originally, I thought we needed to know which elf brought the most, so the initial solution reflects that, but no. Just the max total calories is all we needed.\n",
    "\n",
    "## Input file formatting\n",
    "Text file, looks like each elven entry is split by newline characters `\\n` such as `2344\\n219\\n3456\\n` and then a double newline `\\n\\n` divides each elf's calories from the next. In plaintext:\n",
    "\n",
    "```\n",
    "2344\n",
    "219\n",
    "3456\n",
    "\n",
    "7889\n",
    "654\n",
    "167\n",
    "1231\n",
    "```"
   ]
  },
  {
   "cell_type": "code",
   "execution_count": 15,
   "id": "laughing-geography",
   "metadata": {},
   "outputs": [],
   "source": [
    "file = open('day1.txt')\n",
    "data = file.read()"
   ]
  },
  {
   "cell_type": "code",
   "execution_count": 17,
   "id": "stupid-workshop",
   "metadata": {},
   "outputs": [
    {
     "data": {
      "text/plain": [
       "'13399\\n13677\\n11945\\n9861\\n6484\\n4257'"
      ]
     },
     "execution_count": 17,
     "metadata": {},
     "output_type": "execute_result"
    }
   ],
   "source": [
    "arr = data.split('\\n\\n')\n",
    "arr[0]"
   ]
  },
  {
   "cell_type": "code",
   "execution_count": 40,
   "id": "verbal-rachel",
   "metadata": {},
   "outputs": [],
   "source": [
    "import numpy as np\n",
    "\n",
    "def who_brought_the_most_calories(caloric_arr):\n",
    "    solution = { 'elf_idx': 0, 'val': 0 }\n",
    "    for i, cal_entry in enumerate(caloric_arr):\n",
    "        entries = cal_entry.split('\\n')\n",
    "        # i feel bad for even writing this line... but i'm tired\n",
    "        total = np.sum(list(map(lambda string: int(string) if len(string) > 0 else 0, entries)))\n",
    "        \n",
    "        if total > solution['val']:\n",
    "            solution['elf_idx'] = i\n",
    "            solution['val'] = total\n",
    "    \n",
    "    return solution"
   ]
  },
  {
   "cell_type": "code",
   "execution_count": 31,
   "id": "downtown-moisture",
   "metadata": {},
   "outputs": [
    {
     "name": "stdout",
     "output_type": "stream",
     "text": [
      "['13399', '13677', '11945', '9861', '6484', '4257']\n",
      "[13399, 13677, 11945, 9861, 6484, 4257]\n",
      "59623\n"
     ]
    }
   ],
   "source": [
    "# testing some logic, in a backwards manner\n",
    "entries = arr[0].split('\\n')\n",
    "print(entries)\n",
    "mapped = list(map(lambda string: int(string), entries))\n",
    "print(mapped)\n",
    "\n",
    "print(np.sum(mapped))"
   ]
  },
  {
   "cell_type": "code",
   "execution_count": 35,
   "id": "superior-blanket",
   "metadata": {},
   "outputs": [
    {
     "name": "stdout",
     "output_type": "stream",
     "text": [
      "{'elf_idx': 0, 'val': 59623}\n"
     ]
    }
   ],
   "source": [
    "# now testing our function\n",
    "test_data = [ arr[0] ]\n",
    "\n",
    "print(who_brought_the_most_calories(test_data))"
   ]
  },
  {
   "cell_type": "code",
   "execution_count": 41,
   "id": "documented-novelty",
   "metadata": {},
   "outputs": [
    {
     "name": "stdout",
     "output_type": "stream",
     "text": [
      "{'elf_idx': 136, 'val': 75622}\n"
     ]
    }
   ],
   "source": [
    "# ok, let's let her rip...\n",
    "\n",
    "print(who_brought_the_most_calories(arr))"
   ]
  },
  {
   "cell_type": "markdown",
   "id": "trained-dependence",
   "metadata": {},
   "source": [
    "# That was correct!\n",
    "### Star count: 1\n",
    "Worth noting that the data had a blank space in it `''` that threw off the calculations so i had to add that if/else in the lambda\n",
    "\n",
    "Also, after going back and reading the instructions i didn't need to know which elf had the most calories, only how many they were carrying.\n",
    "\n",
    "## On to part 2... Finding the top three caloric carriers\n",
    "So the goal is to find the top three elves and get their combined total. Since i kept track of the elf's index in my `who_brought_the_most_calories` function, I could just remove the value at that index then use that edited dataset and rerun my function. Continuing in that fashion, I'll end up with the answer. But that just seems like a waste of computation. Even though it really isn't. We're not bumping up the capabilities of my mac here... But let's try something different..."
   ]
  },
  {
   "cell_type": "code",
   "execution_count": 46,
   "id": "pacific-productivity",
   "metadata": {},
   "outputs": [
    {
     "data": {
      "text/plain": [
       "[59623, 52289, 68154]"
      ]
     },
     "execution_count": 46,
     "metadata": {},
     "output_type": "execute_result"
    }
   ],
   "source": [
    "# numpy is already in the project\n",
    "# and we're going to borrow these lines to create a helper function\n",
    "def calc_totals(cal_entry):\n",
    "    entries = cal_entry.split('\\n')\n",
    "    total = np.sum(list(map(lambda string: int(string) if len(string) > 0 else 0, entries)))\n",
    "    return total\n",
    "\n",
    "list_of_totals = list(map(calc_totals, arr))\n",
    "list_of_totals[:3]"
   ]
  },
  {
   "cell_type": "code",
   "execution_count": 50,
   "id": "delayed-december",
   "metadata": {},
   "outputs": [
    {
     "data": {
      "text/plain": [
       "[75622, 69383, 68154]"
      ]
     },
     "execution_count": 50,
     "metadata": {},
     "output_type": "execute_result"
    }
   ],
   "source": [
    "# let's sort and see what our first three are\n",
    "list_of_totals.sort(reverse=True)\n",
    "\n",
    "# i always forget that sort mutates the original obj\n",
    "list_of_totals[:3]"
   ]
  },
  {
   "cell_type": "code",
   "execution_count": 52,
   "id": "billion-miller",
   "metadata": {},
   "outputs": [
    {
     "data": {
      "text/plain": [
       "213159"
      ]
     },
     "execution_count": 52,
     "metadata": {},
     "output_type": "execute_result"
    }
   ],
   "source": [
    "# first entry matches the answer from earlier so that's a good sign...\n",
    "np.sum(list_of_totals[:3])"
   ]
  },
  {
   "cell_type": "markdown",
   "id": "green-warrant",
   "metadata": {},
   "source": [
    "# Correct! \n",
    "### Star count: 2\n",
    "\n",
    "The second half went much quicker. Not terribly happy with all the work that one line is doing, or the number of times I mapped through things. But it worked, and considering we don't have to worry about performance here, that's really what matters. \n",
    "\n",
    "Also, man. It's been a while since I used Python. I had to look up each method pretty much... inlcuding how to import numpy! Also still not sure on how `reduce` works. I was going to try that one too but it wasn't available out of the bag. We'll get better as we go along, though!"
   ]
  },
  {
   "cell_type": "code",
   "execution_count": null,
   "id": "committed-officer",
   "metadata": {},
   "outputs": [],
   "source": []
  }
 ],
 "metadata": {
  "kernelspec": {
   "display_name": "Python 3",
   "language": "python",
   "name": "python3"
  },
  "language_info": {
   "codemirror_mode": {
    "name": "ipython",
    "version": 3
   },
   "file_extension": ".py",
   "mimetype": "text/x-python",
   "name": "python",
   "nbconvert_exporter": "python",
   "pygments_lexer": "ipython3",
   "version": "3.9.14"
  }
 },
 "nbformat": 4,
 "nbformat_minor": 5
}
